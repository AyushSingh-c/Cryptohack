{
 "cells": [
  {
   "cell_type": "code",
   "execution_count": 1,
   "metadata": {},
   "outputs": [
    {
     "name": "stdout",
     "output_type": "stream",
     "text": [
      "b'Welcome to ProSign 3. You can sign_time or verify.\\n'\n",
      "{'msg': 'Current time is 7:21', 'r': '0xaa7c4f9ef99e3e96d1aede2bd9238842859bb150d1fe9d85', 's': '0x87de86a02478ddca58ad7222a1a70f4cfb0918bc579f6358'}\n",
      "b'{\"result\": \"Bad signature\"}\\n'\n",
      "b'{\"result\": \"Bad signature\"}\\n'\n",
      "b'{\"result\": \"Bad signature\"}\\n'\n",
      "b'{\"result\": \"Bad signature\"}\\n'\n",
      "b'{\"result\": \"Bad signature\"}\\n'\n",
      "b'{\"result\": \"Bad signature\"}\\n'\n",
      "b'{\"result\": \"Bad signature\"}\\n'\n",
      "b'{\"result\": \"Bad signature\"}\\n'\n",
      "b'{\"result\": \"Bad signature\"}\\n'\n",
      "b'{\"flag\": \"crypto{ECDSA_700_345y_70_5cr3wup}\"}\\n'\n"
     ]
    }
   ],
   "source": [
    "#prosign3\n",
    "\n",
    "import hashlib\n",
    "import telnetlib\n",
    "import json\n",
    "from Crypto.Util.number import bytes_to_long, long_to_bytes\n",
    "from ecdsa.ecdsa import Public_key, Private_key, Signature, generator_192\n",
    "from datetime import datetime\n",
    "from random import randrange\n",
    "from sage.all import *\n",
    "\n",
    "g = generator_192\n",
    "n = g.order()\n",
    "\n",
    "HOST = \"socket.cryptohack.org\"\n",
    "PORT = 13381\n",
    "\n",
    "def readline():\n",
    "    return tn.read_until(b\"\\n\")\n",
    "\n",
    "def json_recv():\n",
    "    line = readline().decode()\n",
    "    st = line[line.find('{'):]\n",
    "    return json.loads(st)\n",
    "\n",
    "def json_send(hsh):\n",
    "    request = json.dumps(hsh).encode()\n",
    "    tn.write(request)\n",
    "\n",
    "tn = telnetlib.Telnet(HOST, PORT)\n",
    "print(readline())\n",
    "\n",
    "to_send = json.loads(json.dumps({\"option\" : \"sign_time\"}))\n",
    "json_send(to_send)\n",
    "inp = json_recv()\n",
    "print(inp)\n",
    "\n",
    "def sha1(data):\n",
    "    sha1_hash = hashlib.sha1()\n",
    "    sha1_hash.update(data)\n",
    "    return sha1_hash.digest()\n",
    "\n",
    "def encod(msg, k):\n",
    "    hsh = sha1(msg.encode())\n",
    "    sig = privkey.sign(bytes_to_long(hsh), k)\n",
    "    return hex(sig.r), hex(sig.s)\n",
    "\n",
    "k = 60\n",
    "msg = \"unlock\"\n",
    "\n",
    "for i in range(1,k+1):\n",
    "    h = sha1(inp[\"msg\"].encode())\n",
    "    R = Integers(n) \n",
    "    secret = int(R((int(inp[\"s\"],16)*i)-bytes_to_long(h))//R(int(inp[\"r\"],16)))\n",
    "\n",
    "    try:\n",
    "        pubkey = Public_key(g, g * secret)\n",
    "        privkey = Private_key(pubkey, secret)\n",
    "        r,s = encod(msg, i)\n",
    "        to_send = json.loads(json.dumps({\"option\" : \"verify\", \"msg\" : msg, \"r\" : r, \"s\" : s}))\n",
    "        json_send(to_send)\n",
    "        print(readline())\n",
    "    except:\n",
    "        continue"
   ]
  }
 ],
 "metadata": {
  "kernelspec": {
   "display_name": "Python 3",
   "language": "python",
   "name": "python3"
  },
  "language_info": {
   "codemirror_mode": {
    "name": "ipython",
    "version": 3
   },
   "file_extension": ".py",
   "mimetype": "text/x-python",
   "name": "python",
   "nbconvert_exporter": "python",
   "pygments_lexer": "ipython3",
   "version": "3.7.7"
  }
 },
 "nbformat": 4,
 "nbformat_minor": 4
}
