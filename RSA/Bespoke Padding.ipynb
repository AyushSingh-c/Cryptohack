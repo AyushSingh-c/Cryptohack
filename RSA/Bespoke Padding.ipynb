{
 "cells": [
  {
   "cell_type": "code",
   "execution_count": 1,
   "metadata": {},
   "outputs": [
    {
     "name": "stdout",
     "output_type": "stream",
     "text": [
      "b\"Come back as much as you want! You'll never get my flag.\\n\"\n",
      "(754659823705280937426684693543545157731789888997963325308215810880829655843345426301)\n"
     ]
    }
   ],
   "source": [
    "#done\n",
    "from Crypto.Util.number import bytes_to_long, long_to_bytes\n",
    "import telnetlib\n",
    "import json\n",
    "from sage.all import *\n",
    "    \n",
    "def binomial_coef(pad, p, e):\n",
    "    coef = []\n",
    "    R = Integers(p)\n",
    "    \n",
    "    a = R(pad[0])\n",
    "    b = R(pad[1])\n",
    "    \n",
    "    for i in range(e+1):\n",
    "        c = binomial(e,i)\n",
    "        c = R(c)\n",
    "        c = c*(a**i)*(b**(e-i))\n",
    "        coef.append(c)\n",
    "        \n",
    "    return coef\n",
    "    \n",
    "HOST = \"socket.cryptohack.org\"\n",
    "PORT = 13386\n",
    "\n",
    "def readline():\n",
    "    return tn.read_until(b\"\\n\")\n",
    "\n",
    "def json_recv():\n",
    "    line = readline().decode()\n",
    "    st = line[line.find('{'):]\n",
    "    return json.loads(st)\n",
    "\n",
    "def json_send(hsh):\n",
    "    request = json.dumps(hsh).encode()\n",
    "    tn.write(request)\n",
    "    \n",
    "tn = telnetlib.Telnet(HOST, PORT)\n",
    "\n",
    "result = []\n",
    "coef = []\n",
    "\n",
    "print(readline())\n",
    "\n",
    "for i in range(12):\n",
    "    stri = '''{\"option\" : \"get_flag\"}'''\n",
    "    json_send(json.loads(stri))\n",
    "    \n",
    "    temp = json_recv()\n",
    "    \n",
    "    flag = temp[\"encrypted_flag\"]\n",
    "    p = temp[\"modulus\"]\n",
    "    pad = temp[\"padding\"]\n",
    "    \n",
    "    coef.append(binomial_coef(pad,p,11))\n",
    "    result.append(flag)\n",
    "    \n",
    "m_result = matrix(Integers(p), 12, 1, result)\n",
    "m_coef = matrix(Integers(p), 12, 12, coef)\n",
    "\n",
    "m_message = (~m_coef)*m_result\n",
    "R = Integers(p)\n",
    "\n",
    "print(m_message[1])"
   ]
  },
  {
   "cell_type": "code",
   "execution_count": 2,
   "metadata": {},
   "outputs": [
    {
     "name": "stdout",
     "output_type": "stream",
     "text": [
      "b'crypto{linear_padding_isnt_padding}'\n"
     ]
    }
   ],
   "source": [
    "x = 754659823705280937426684693543545157731789888997963325308215810880829655843345426301\n",
    "print(long_to_bytes(x))"
   ]
  }
 ],
 "metadata": {
  "kernelspec": {
   "display_name": "Python 3",
   "language": "python",
   "name": "python3"
  },
  "language_info": {
   "codemirror_mode": {
    "name": "ipython",
    "version": 3
   },
   "file_extension": ".py",
   "mimetype": "text/x-python",
   "name": "python",
   "nbconvert_exporter": "python",
   "pygments_lexer": "ipython3",
   "version": "3.7.7"
  }
 },
 "nbformat": 4,
 "nbformat_minor": 4
}
