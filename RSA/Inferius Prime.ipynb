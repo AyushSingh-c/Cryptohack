{
 "cells": [
  {
   "cell_type": "code",
   "execution_count": 2,
   "metadata": {},
   "outputs": [
    {
     "name": "stdout",
     "output_type": "stream",
     "text": [
      "b'crypto{N33d_b1g_pR1m35}'\n"
     ]
    }
   ],
   "source": [
    "from sage.all import *\n",
    "from Crypto.Util.number import bytes_to_long, long_to_bytes\n",
    "\n",
    "def pc(a,b,c):\n",
    "    R=IntegerModRing(c)\n",
    "    x=R(a)\n",
    "    return x**b\n",
    "\n",
    "n = 742449129124467073921545687640895127535705902454369756401331\n",
    "e = 3\n",
    "ct = 39207274348578481322317340648475596807303160111338236677373\n",
    "\n",
    "p = 752708788837165590355094155871\n",
    "q = 986369682585281993933185289261\n",
    "phi_n = (p-1)*(q-1) \n",
    "R = IntegerModRing(phi_n)\n",
    "d = R(1)/R(e)\n",
    "\n",
    "m = pc(ct,d,n)\n",
    "print(long_to_bytes(Integer(m)))"
   ]
  }
 ],
 "metadata": {
  "kernelspec": {
   "display_name": "Python 3",
   "language": "python",
   "name": "python3"
  },
  "language_info": {
   "codemirror_mode": {
    "name": "ipython",
    "version": 3
   },
   "file_extension": ".py",
   "mimetype": "text/x-python",
   "name": "python",
   "nbconvert_exporter": "python",
   "pygments_lexer": "ipython3",
   "version": "3.7.7"
  }
 },
 "nbformat": 4,
 "nbformat_minor": 4
}
