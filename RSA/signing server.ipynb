{
 "cells": [
  {
   "cell_type": "code",
   "execution_count": 1,
   "metadata": {},
   "outputs": [
    {
     "name": "stdout",
     "output_type": "stream",
     "text": [
      "b'Welcome to my signing server. You can get_pubkey, get_secret, or sign.\\n'\n",
      "b\"TODO: audit signing server to make sure that meddling hacker doesn't get hold of my secret flag: crypto{d0n7_516n_ju57_4ny7h1n6}\"\n"
     ]
    }
   ],
   "source": [
    "#signing server\n",
    "from Crypto.Util.number import bytes_to_long, long_to_bytes\n",
    "import telnetlib\n",
    "import json\n",
    "from sage.all import *\n",
    "\n",
    "HOST = \"socket.cryptohack.org\"\n",
    "PORT = 13374\n",
    "\n",
    "def readline():\n",
    "    return tn.read_until(b\"\\n\")\n",
    "\n",
    "def json_recv():\n",
    "    line = readline().decode()\n",
    "    st = line[line.find('{'):]\n",
    "    return json.loads(st)\n",
    "\n",
    "def json_send(hsh):\n",
    "    request = json.dumps(hsh).encode()\n",
    "    tn.write(request)\n",
    "\n",
    "tn = telnetlib.Telnet(HOST, PORT)\n",
    "\n",
    "print(readline())\n",
    "\n",
    "stri = {\"option\" : \"get_secret\"}\n",
    "stri = json.dumps(stri)\n",
    "to_send = json.loads(stri)\n",
    "\n",
    "json_send(to_send)\n",
    "temp = json_recv()\n",
    "\n",
    "stri = {\"option\" : \"sign\", \"msg\" : temp[\"secret\"]}\n",
    "stri = json.dumps(stri)\n",
    "to_send = json.loads(stri)\n",
    "\n",
    "json_send(to_send)\n",
    "temp = json_recv()\n",
    "\n",
    "print(bytes.fromhex(temp[\"signature\"][2:]))\n"
   ]
  }
 ],
 "metadata": {
  "kernelspec": {
   "display_name": "Python 3",
   "language": "python",
   "name": "python3"
  },
  "language_info": {
   "codemirror_mode": {
    "name": "ipython",
    "version": 3
   },
   "file_extension": ".py",
   "mimetype": "text/x-python",
   "name": "python",
   "nbconvert_exporter": "python",
   "pygments_lexer": "ipython3",
   "version": "3.7.7"
  }
 },
 "nbformat": 4,
 "nbformat_minor": 4
}
