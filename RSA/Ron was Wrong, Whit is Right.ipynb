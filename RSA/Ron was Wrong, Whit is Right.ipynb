{
 "cells": [
  {
   "cell_type": "code",
   "execution_count": 2,
   "metadata": {},
   "outputs": [
    {
     "name": "stdout",
     "output_type": "stream",
     "text": [
      "b\"crypto{3ucl1d_w0uld_b3_pr0ud} If you haven't already, check out https://eprint.iacr.org/2012/064.pdf\"\n"
     ]
    }
   ],
   "source": [
    "from Crypto.PublicKey import RSA\n",
    "from Crypto.Cipher import PKCS1_OAEP\n",
    "from Crypto.Util import number\n",
    "import gmpy\n",
    "from itertools import combinations\n",
    "from gmpy2 import mpz\n",
    "\n",
    "grps = {'n':[],'c':[],'e':[]}\n",
    "for i in range(1, 51):\n",
    "    key = RSA.importKey(open(f\"Ron_was_Wrong/keys_and_messages/{i}.pem\", 'r').read())\n",
    "    cipher = open(f\"Ron_was_Wrong/keys_and_messages/{i}.ciphertext\", 'r').read()\n",
    "    cipher = number.bytes_to_long(bytes.fromhex(cipher))\n",
    "    grps['n'].append(key.n)\n",
    "    grps['c'].append(cipher)\n",
    "    grps['e'].append(key.e)\n",
    "\n",
    "N = 0\n",
    "for i in range(len(grps['n'])):\n",
    "    for j in range(len(grps['n'])):\n",
    "        gcd = gmpy.gcd(grps['n'][i], grps['n'][j])\n",
    "        if int(gcd) != mpz('1') and i!=j:\n",
    "            N = int(gcd)\n",
    "            ind = j\n",
    "            \n",
    "e = grps['e'][ind]\n",
    "p = N\n",
    "q = grps['n'][ind]//N\n",
    "phi = (p-1)*(q-1)\n",
    "d = number.inverse(e, phi)\n",
    "\n",
    "key = RSA.construct((grps['n'][ind], e, d))\n",
    "cipher = PKCS1_OAEP.new(key)\n",
    "flag = number.long_to_bytes(grps['c'][ind])\n",
    "flag = cipher.decrypt(flag)\n",
    "print(flag)"
   ]
  }
 ],
 "metadata": {
  "kernelspec": {
   "display_name": "Python 3",
   "language": "python",
   "name": "python3"
  },
  "language_info": {
   "codemirror_mode": {
    "name": "ipython",
    "version": 3
   },
   "file_extension": ".py",
   "mimetype": "text/x-python",
   "name": "python",
   "nbconvert_exporter": "python",
   "pygments_lexer": "ipython3",
   "version": "3.7.7"
  }
 },
 "nbformat": 4,
 "nbformat_minor": 4
}
