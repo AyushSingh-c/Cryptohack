{
 "cells": [
  {
   "cell_type": "code",
   "execution_count": 1,
   "metadata": {},
   "outputs": [
    {
     "name": "stdout",
     "output_type": "stream",
     "text": [
      "b'Watch out for the Blinding Light\\n'\n",
      "{'response': 'crypto{m4ll34b1l17y_c4n_b3_d4n63r0u5}'}\n"
     ]
    }
   ],
   "source": [
    "#blinding light\n",
    "from Crypto.Util.number import bytes_to_long, long_to_bytes\n",
    "import telnetlib\n",
    "import json\n",
    "import re\n",
    "from pkcs1 import emsa_pkcs1_v15\n",
    "from sage.all import *\n",
    "\n",
    "HOST = \"socket.cryptohack.org\"\n",
    "PORT = 13376\n",
    "\n",
    "def readline():\n",
    "    return tn.read_until(b\"\\n\")\n",
    "\n",
    "def json_recv():\n",
    "    line = readline().decode()\n",
    "    st = line[line.find('{'):]\n",
    "    return json.loads(st)\n",
    "\n",
    "def json_send(hsh):\n",
    "    request = json.dumps(hsh).encode()\n",
    "    tn.write(request)\n",
    "\n",
    "tn = telnetlib.Telnet(HOST, PORT)\n",
    "\n",
    "ADMIN_TOKEN = b\"admin=True\"\n",
    "\n",
    "print(readline())\n",
    "to_send = json.loads(json.dumps({\"option\" : \"get_pubkey\"}))\n",
    "json_send(to_send)\n",
    "\n",
    "p = json_recv()\n",
    "n = int(p[\"N\"][2:],16)\n",
    "e = int(p[\"e\"][2:],16)\n",
    "\n",
    "msg = hex(bytes_to_long(ADMIN_TOKEN) + n)\n",
    "to_send = json.loads(json.dumps({\"option\" : \"sign\", \"msg\" : msg[2:]}))\n",
    "json_send(to_send)\n",
    "p = json_recv()\n",
    "\n",
    "sig = int(p[\"signature\"][2:],16)\n",
    "\n",
    "to_send = json.loads(json.dumps({\"option\" : \"verify\", \"signature\" : hex(sig), \"msg\" : ADMIN_TOKEN.hex()}))\n",
    "json_send(to_send)\n",
    "p = json_recv()\n",
    "print(p)"
   ]
  }
 ],
 "metadata": {
  "kernelspec": {
   "display_name": "Python 3",
   "language": "python",
   "name": "python3"
  },
  "language_info": {
   "codemirror_mode": {
    "name": "ipython",
    "version": 3
   },
   "file_extension": ".py",
   "mimetype": "text/x-python",
   "name": "python",
   "nbconvert_exporter": "python",
   "pygments_lexer": "ipython3",
   "version": "3.7.7"
  }
 },
 "nbformat": 4,
 "nbformat_minor": 4
}
