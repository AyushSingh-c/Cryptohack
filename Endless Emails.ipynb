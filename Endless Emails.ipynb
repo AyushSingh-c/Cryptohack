{
 "cells": [
  {
   "cell_type": "code",
   "execution_count": 2,
   "metadata": {},
   "outputs": [
    {
     "name": "stdout",
     "output_type": "stream",
     "text": [
      "b'yes\\n\\n---\\n\\nJohan Hastad\\nProfessor in Computer Science in the Theoretical Computer Science\\nGroup at the School of Computer Science and Communication at KTH Royal Institute of Technology in Stockholm, Sweden.\\n\\ncrypto{1f_y0u_d0nt_p4d_y0u_4r3_Vuln3rabl3}'\n"
     ]
    }
   ],
   "source": [
    "from sage.all import *\n",
    "from Crypto.Util.number import bytes_to_long, long_to_bytes\n",
    "\n",
    "import gmpy2\n",
    "from Cryptodome.Util import number\n",
    "from itertools import combinations\n",
    "\n",
    "\n",
    "def load_output():\n",
    "    ret = {'n':[], 'c':[]}\n",
    "    with open(\"output.txt\", 'rb') as fd:\n",
    "        while True:\n",
    "            line = fd.readline()\n",
    "            if not line: break\n",
    "            line = line.strip().decode()\n",
    "            if not line: continue\n",
    "            \n",
    "            k, v = line.split('=')\n",
    "            k = k.strip()\n",
    "            if k == 'e':\n",
    "                continue\n",
    "            ret[k].append(int(v))\n",
    "\n",
    "    return ret\n",
    "\n",
    "def decrypt(grps, e):\n",
    "    for grp in combinations(zip(grps['n'], grps['c']), e):\n",
    "        N = 1\n",
    "        for x in grp: N *= x[0]\n",
    "\n",
    "        M = 0\n",
    "        for x in grp:\n",
    "            M += x[1]*number.inverse(N//x[0], x[0])*(N//x[0])\n",
    "        M %= N\n",
    "        m, exact = gmpy2.iroot(M, e)\n",
    "        if exact:\n",
    "            print(number.long_to_bytes(m))\n",
    "\n",
    "\n",
    "# Reference\n",
    "# [Hastad’s Broadcast Attack](https://bitsdeep.com/posts/attacking-rsa-for-fun-and-ctf-points-part-2/)\n",
    "grps = load_output()\n",
    "decrypt(grps, 3)"
   ]
  }
 ],
 "metadata": {
  "kernelspec": {
   "display_name": "Python 3",
   "language": "python",
   "name": "python3"
  },
  "language_info": {
   "codemirror_mode": {
    "name": "ipython",
    "version": 3
   },
   "file_extension": ".py",
   "mimetype": "text/x-python",
   "name": "python",
   "nbconvert_exporter": "python",
   "pygments_lexer": "ipython3",
   "version": "3.7.7"
  }
 },
 "nbformat": 4,
 "nbformat_minor": 4
}
