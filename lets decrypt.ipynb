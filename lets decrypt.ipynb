{
 "cells": [
  {
   "cell_type": "code",
   "execution_count": 1,
   "metadata": {},
   "outputs": [
    {
     "name": "stdout",
     "output_type": "stream",
     "text": [
      "b'This server validates domain ownership with RSA signatures. Present your message and public key, and if the signature matches ours, you must own the domain.\\n'\n",
      "b'{\"msg\": \"Congratulations, here\\'s a secret: crypto{dupl1c4t3_s1gn4tur3_k3y_s3l3ct10n}\"}\\n'\n"
     ]
    }
   ],
   "source": [
    "#lets decrypt\n",
    "from Crypto.Util.number import bytes_to_long, long_to_bytes\n",
    "import telnetlib\n",
    "import json\n",
    "import re\n",
    "from pkcs1 import emsa_pkcs1_v15\n",
    "from sage.all import *\n",
    "\n",
    "HOST = \"socket.cryptohack.org\"\n",
    "PORT = 13391\n",
    "\n",
    "def readline():\n",
    "    return tn.read_until(b\"\\n\")\n",
    "\n",
    "def json_recv():\n",
    "    line = readline().decode()\n",
    "    st = line[line.find('{'):]\n",
    "    return json.loads(st)\n",
    "\n",
    "def json_send(hsh):\n",
    "    request = json.dumps(hsh).encode()\n",
    "    tn.write(request)\n",
    "\n",
    "tn = telnetlib.Telnet(HOST, PORT)\n",
    "\n",
    "msg = \"I am Mallory1111own CryptoHack.org\"\n",
    "digest = bytes_to_long(emsa_pkcs1_v15.encode(msg.encode(), 256))\n",
    "\n",
    "print(readline())\n",
    "to_send = json.loads(json.dumps({\"option\" : \"get_signature\"}))\n",
    "json_send(to_send)\n",
    "\n",
    "sig = int(json_recv()[\"signature\"],0)\n",
    "\n",
    "n = sig - digest\n",
    "e = 1\n",
    "\n",
    "json_p = {\"option\":\"verify\",\"msg\":\"I am Mallory1111own CryptoHack.org\",\"N\": hex(n)[2:],\"e\":hex(e)[2:]}\n",
    "json_p = json.dumps(json_p)\n",
    "to_send = json.loads(json_p)\n",
    "\n",
    "json_send(to_send)\n",
    "\n",
    "print(readline())\n"
   ]
  }
 ],
 "metadata": {
  "kernelspec": {
   "display_name": "Python 3",
   "language": "python",
   "name": "python3"
  },
  "language_info": {
   "codemirror_mode": {
    "name": "ipython",
    "version": 3
   },
   "file_extension": ".py",
   "mimetype": "text/x-python",
   "name": "python",
   "nbconvert_exporter": "python",
   "pygments_lexer": "ipython3",
   "version": "3.7.7"
  }
 },
 "nbformat": 4,
 "nbformat_minor": 4
}
