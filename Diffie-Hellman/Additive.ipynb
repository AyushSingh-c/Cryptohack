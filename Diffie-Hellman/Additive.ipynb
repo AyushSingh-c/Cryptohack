{
 "cells": [
  {
   "cell_type": "code",
   "execution_count": 1,
   "metadata": {},
   "outputs": [
    {
     "name": "stdout",
     "output_type": "stream",
     "text": [
      "crypto{cycl1c_6r0up_und3r_4dd1710n?}\n"
     ]
    }
   ],
   "source": [
    "from Crypto.Util.number import bytes_to_long, long_to_bytes\n",
    "import base64\n",
    "import codecs\n",
    "import random\n",
    "import telnetlib\n",
    "import json\n",
    "from Crypto.Cipher import AES\n",
    "from Crypto.Util.Padding import pad, unpad\n",
    "import hashlib\n",
    "from sage.all import *\n",
    "\n",
    "def is_pkcs7_padded(message):\n",
    "    padding = message[-message[-1]:]\n",
    "    return all(padding[i] == len(padding) for i in range(0, len(padding)))\n",
    "\n",
    "\n",
    "def decrypt_flag(shared_secret: int, iv: str, ciphertext: str):\n",
    "    # Derive AES key from shared secret\n",
    "    sha1 = hashlib.sha1()\n",
    "    sha1.update(str(shared_secret).encode('ascii'))\n",
    "    key = sha1.digest()[:16]\n",
    "    # Decrypt flag\n",
    "    ciphertext = bytes.fromhex(ciphertext)\n",
    "    iv = bytes.fromhex(iv)\n",
    "    cipher = AES.new(key, AES.MODE_CBC, iv)\n",
    "    plaintext = cipher.decrypt(ciphertext)\n",
    "\n",
    "    if is_pkcs7_padded(plaintext):\n",
    "        return unpad(plaintext, 16).decode('ascii')\n",
    "    else:\n",
    "        return plaintext.decode('ascii')\n",
    "\n",
    "    \n",
    "    \n",
    "HOST = \"socket.cryptohack.org\"\n",
    "PORT = 13380\n",
    "\n",
    "def readline():\n",
    "    return tn.read_until(b\"\\n\")\n",
    "\n",
    "def json_recv():\n",
    "    line = readline().decode()\n",
    "    st = line[line.find('{'):]\n",
    "    return json.loads(st)\n",
    "\n",
    "def json_send(hsh):\n",
    "    request = json.dumps(hsh).encode()\n",
    "    tn.write(request)\n",
    "    \n",
    "tn = telnetlib.Telnet(HOST, PORT)\n",
    "    \n",
    "alice = json_recv()\n",
    "bob = json_recv()\n",
    "flag = json_recv()\n",
    "\n",
    "R = GF(alice[\"p\"])\n",
    "g = R(alice[\"g\"])\n",
    "A = R(alice[\"A\"])\n",
    "B = R(bob[\"B\"])\n",
    "\n",
    "a = A/g\n",
    "b = B/g\n",
    "\n",
    "key = b*A\n",
    "print(decrypt_flag(key, flag['iv'], flag['encrypted']))"
   ]
  }
 ],
 "metadata": {
  "kernelspec": {
   "display_name": "Python 3",
   "language": "python",
   "name": "python3"
  },
  "language_info": {
   "codemirror_mode": {
    "name": "ipython",
    "version": 3
   },
   "file_extension": ".py",
   "mimetype": "text/x-python",
   "name": "python",
   "nbconvert_exporter": "python",
   "pygments_lexer": "ipython3",
   "version": "3.7.7"
  }
 },
 "nbformat": 4,
 "nbformat_minor": 4
}
