{
 "cells": [
  {
   "cell_type": "code",
   "execution_count": 7,
   "metadata": {},
   "outputs": [
    {
     "name": "stdout",
     "output_type": "stream",
     "text": [
      "85256449776780591202928235662805033201684571648990042997557084658000067050672130152734911919581661523957075992761662315262685030115255938352540032297113615687815976039390537716707854569980516690246592112936796917504034711418465442893323439490171095447109457355598873230115172636184525449905022174536414781771 93291799125366706806545638475797430512104976066103610269938025709952247020061090804870186195285998727680200979853848718589126765742550855954805290253592144209552123062161458584575060939481368210688629862036958857604707468372384278049741369153506182660264876115428251983455344219194133033177700490981696141526\n"
     ]
    }
   ],
   "source": [
    "from sage.all import *\n",
    "\n",
    "# tonolli shanks\n",
    "def step3(b,p,r,x):\n",
    "       # Step 3: Find exponent\n",
    "       if GF(p)(b) == GF(p)(1):\n",
    "               return b,r,x,0\n",
    "       m = 0\n",
    "       while GF(p)(b**(2**m)) != 1:\n",
    "               m = m + 1\n",
    "       if m == r:\n",
    "               return b,r,0,0\n",
    "       return b,r,x,m\n",
    "\n",
    "def s_root(a,p):\n",
    "       # Step 0: Determine q:\n",
    "       q = 0\n",
    "       e = 0\n",
    "       while q % 2 != 1:\n",
    "               e = e+1\n",
    "               q = (p-1) // 2**e\n",
    "       # Step 1: Find generator\n",
    "       n = ZZ.random_element()\n",
    "       while kronecker(n,p) != -1:\n",
    "               n = ZZ.random_element()\n",
    "       n = GF(p)(n)\n",
    "       z = GF(p)(n**q)\n",
    "       # Step 2: Initialize\n",
    "       y = z\n",
    "       r = e\n",
    "       a = GF(p)(a)\n",
    "       x = GF(p)(a**((q-1)//2))\n",
    "       b = GF(p)(a*(x**2))\n",
    "       x = GF(p)(a*x)\n",
    "       # Step 3:\n",
    "       b,r,x,m = step3(b,p,r,x)\n",
    "       # Step 4: Reduce exponent\n",
    "       while ZZ(m) != ZZ(0):\n",
    "               t = GF(p)(y**(2**(r-m-1)))\n",
    "               y = GF(p)(t**2)\n",
    "               r = GF(p)(m)\n",
    "               x = GF(p)(x*t)\n",
    "               b = GF(p)(b*y)\n",
    "               b,r,x,m = step3(b,p,r,x)\n",
    "       return x\n",
    "\n",
    "for i in ints:\n",
    "    if pow(i, (p-1)//2, p)==1:\n",
    "        a = GF(p)(i)\n",
    "        print(i, s_root(a,p))"
   ]
  }
 ],
 "metadata": {
  "kernelspec": {
   "display_name": "Python 3",
   "language": "python",
   "name": "python3"
  },
  "language_info": {
   "codemirror_mode": {
    "name": "ipython",
    "version": 3
   },
   "file_extension": ".py",
   "mimetype": "text/x-python",
   "name": "python",
   "nbconvert_exporter": "python",
   "pygments_lexer": "ipython3",
   "version": "3.7.7"
  }
 },
 "nbformat": 4,
 "nbformat_minor": 4
}
