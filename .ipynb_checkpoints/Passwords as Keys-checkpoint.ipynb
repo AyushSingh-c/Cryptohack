{
 "cells": [
  {
   "cell_type": "code",
   "execution_count": 4,
   "metadata": {},
   "outputs": [
    {
     "name": "stdout",
     "output_type": "stream",
     "text": [
      "{'ciphertext': 'c7710e2a035ae4f9a8d61de21363bf84c343c6ad2ceb06ccd4d760e14f6f87c51b47b911193fafb72864104b52626af50ba978944ffe55780de011bf9bfa690e'}\n",
      "crypto{k3y5__r__n07__p455w0rdz?}\n"
     ]
    }
   ],
   "source": [
    "from Crypto.Cipher import AES\n",
    "import codecs\n",
    "import random\n",
    "import hashlib\n",
    "\n",
    "def hex_to_string(hex):\n",
    "    if hex[:2] == '0x':\n",
    "        hex = hex[2:]\n",
    "    string_value = bytes.fromhex(hex).decode('utf-8')\n",
    "    return string_value\n",
    "\n",
    "# /usr/share/dict/words from\n",
    "# https://gist.githubusercontent.com/wchargin/8927565/raw/d9783627c731268fb2935a731a618aa8e95cf465/words\n",
    "with open('C:/Users/Aayush/Documents/file.txt') as f:\n",
    "    words = [w.strip() for w in f.readlines()]\n",
    "keyword = random.choice(words)\n",
    "\n",
    "KEY = hashlib.md5(keyword.encode()).digest()\n",
    "FLAG = '736164686162642071637177716462776b7164647177646e6b736e646b717769'\n",
    "\n",
    "\n",
    "# @chal.route('/passwords_as_keys/decrypt/<ciphertext>/<password_hash>/')\n",
    "def decrypt(ciphertext, password_hash):\n",
    "    ciphertext = bytes.fromhex(ciphertext)\n",
    "    key = bytes.fromhex(password_hash)\n",
    "\n",
    "    cipher = AES.new(key, AES.MODE_ECB)\n",
    "    try:\n",
    "        decrypted = cipher.decrypt(ciphertext)\n",
    "    except ValueError as e:\n",
    "        return {\"error\": str(e)}\n",
    "\n",
    "    return {\"plaintext\": decrypted.hex()}\n",
    "\n",
    "\n",
    "# @chal.route('/passwords_as_keys/encrypt_flag/')\n",
    "def encrypt_flag():\n",
    "    cipher = AES.new(KEY, AES.MODE_ECB)\n",
    "    encrypted = cipher.encrypt(FLAG.encode())\n",
    "\n",
    "    return {\"ciphertext\": encrypted.hex()}\n",
    "\n",
    "print(encrypt_flag())\n",
    "final=\"gahnta\"\n",
    "for word in words:\n",
    "    opr = decrypt('c92b7734070205bdf6c0087a751466ec13ae15e6f1bcdd3f3a535ec0f4bbae66',hashlib.md5(word.encode()).digest().hex())\n",
    "    try:\n",
    "        final = hex_to_string(opr['plaintext'])\n",
    "    except:\n",
    "        xx=1\n",
    "        \n",
    "print(final)"
   ]
  }
 ],
 "metadata": {
  "kernelspec": {
   "display_name": "Python 3",
   "language": "python",
   "name": "python3"
  },
  "language_info": {
   "codemirror_mode": {
    "name": "ipython",
    "version": 3
   },
   "file_extension": ".py",
   "mimetype": "text/x-python",
   "name": "python",
   "nbconvert_exporter": "python",
   "pygments_lexer": "ipython3",
   "version": "3.7.7"
  }
 },
 "nbformat": 4,
 "nbformat_minor": 4
}
