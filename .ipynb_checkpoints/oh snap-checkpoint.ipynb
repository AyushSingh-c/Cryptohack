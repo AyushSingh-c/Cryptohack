{
 "cells": [
  {
   "cell_type": "code",
   "execution_count": 1,
   "metadata": {},
   "outputs": [
    {
     "name": "stdout",
     "output_type": "stream",
     "text": [
      "crypto{w1R3d_equ1v4l3nt_pr1v4cy?!}"
     ]
    }
   ],
   "source": [
    "#oh snap\n",
    "import requests\n",
    "from Crypto.Util.Padding import unpad\n",
    "from Crypto.Cipher import ARC4\n",
    "\n",
    "\n",
    "# Helper function, which swaps two values in the box.\n",
    "def swapValueByIndex(box, i, j):\n",
    "    temp = box[i]\n",
    "    box[i] = box[j]\n",
    "    box[j] = temp\n",
    "\n",
    "# Initialize S-box.\n",
    "def initSBox(box):\n",
    "    if len(box) == 0:\n",
    "        for i in range(256):\n",
    "            box.append(i)\n",
    "    else:\n",
    "        for i in range(256):\n",
    "            box[i] = i\n",
    "\n",
    "# Key schedule Algorithm (KSA) for key whose value is in unicode.\n",
    "def ksa(key, box):\n",
    "    j = 0\n",
    "    for i in range(256):\n",
    "        j = (j + box[i] + ord(key[i % len(key)])) % 256\n",
    "        swapValueByIndex(box, i, j)\n",
    "\n",
    "def send_cmd(ciphertext, nonce):\n",
    "    res = requests.get(f\"http://aes.cryptohack.org/oh_snap/send_cmd/{ciphertext.hex()}/{nonce.hex()}/\")\n",
    "    return res.json()\n",
    "\n",
    "key = [0]*3\n",
    "key += [99, 114, 121, 112, 116, 111, 123, 119, 49, 82, 51, 100, 95, 101, 113, 117, 49, 118, 52, 108, 51, 110, 116, 95, 112, 114, 49, 118, 52, 99, 121, 63, 33, 125]\n",
    "\n",
    "for i1 in range(len(key)-3,34):\n",
    "    prob = [0] * 256\n",
    "    for i2 in range(256):\n",
    "        key[0] = i1+3\n",
    "        key[1] = 255\n",
    "        key[2] = i2\n",
    "\n",
    "        j = 0\n",
    "        \n",
    "        box = []\n",
    "        initSBox(box)\n",
    "\n",
    "        # Simulate the S-Box after KSA initialization.\n",
    "        for i in range(key[0]):\n",
    "            j = (j + box[i] + key[i]) % 256\n",
    "            swapValueByIndex(box, i, j)\n",
    "            # Record the original box[0] and box[1] value.\n",
    "            if i == 1:\n",
    "                original0 = box[0]\n",
    "                original1 = box[1]\n",
    "\n",
    "        i = key[0]\n",
    "        z = box[1]\n",
    "        # if resolved condition is possibly met.\n",
    "        if z + box[z] == key[0]:\n",
    "            # If the value of box[0] and box[1] has changed, discard this possibility.\n",
    "            if (original0 != box[0] or original1 != box[1]):\n",
    "                continue\n",
    "                \n",
    "            nonce = long_to_bytes(key[0])+long_to_bytes(key[1])+long_to_bytes(key[2])\n",
    "            a = send_cmd(b'\\x00',nonce)['error']\n",
    "            keyStreamByte = int(a.split(': ')[1],16)\n",
    "            \n",
    "            keyByte = (box.index(keyStreamByte) - j - box[i]) % 256\n",
    "            prob[keyByte] += 1\n",
    "        # Assume that the most hit is the correct password.\n",
    "        higherPossibility = prob.index(max(prob))\n",
    "    key.append(higherPossibility)\n",
    "    print(higherPossibility, chr(higherPossibility))\n",
    "    \n",
    "for i in key[3:]:\n",
    "    print(chr(i),end=\"\")"
   ]
  }
 ],
 "metadata": {
  "kernelspec": {
   "display_name": "Python 3",
   "language": "python",
   "name": "python3"
  },
  "language_info": {
   "codemirror_mode": {
    "name": "ipython",
    "version": 3
   },
   "file_extension": ".py",
   "mimetype": "text/x-python",
   "name": "python",
   "nbconvert_exporter": "python",
   "pygments_lexer": "ipython3",
   "version": "3.7.7"
  }
 },
 "nbformat": 4,
 "nbformat_minor": 4
}
