{
 "cells": [
  {
   "cell_type": "code",
   "execution_count": 1,
   "metadata": {},
   "outputs": [
    {
     "name": "stdout",
     "output_type": "stream",
     "text": [
      "Decrypted Flag: crypto{Gauss_lattice_attack!}\n"
     ]
    }
   ],
   "source": [
    "from Crypto.Util.number import getPrime, inverse, bytes_to_long\n",
    "import random\n",
    "import math\n",
    "from sage.all import *\n",
    "\n",
    "FLAG = b'crypto{?????????????????????}'\n",
    "\n",
    "\n",
    "def gen_key():\n",
    "    q = getPrime(512)\n",
    "    upper_bound = int(math.sqrt(q // 2))\n",
    "    lower_bound = int(math.sqrt(q // 4))\n",
    "    f = random.randint(2, upper_bound)\n",
    "    while True:\n",
    "        g = random.randint(lower_bound, upper_bound)\n",
    "        if math.gcd(f, g) == 1:\n",
    "            break\n",
    "    h = (inverse(f, q)*g) % q\n",
    "    return (q, h), (f, g)\n",
    "\n",
    "\n",
    "def encrypt(q, h, m):\n",
    "    assert m < int(math.sqrt(q // 2))\n",
    "    r = random.randint(2, int(math.sqrt(q // 2)))\n",
    "    e = (r*h + m) % q\n",
    "    return e\n",
    "\n",
    "\n",
    "def decrypt(q, h, f, g, e):\n",
    "    a = (f*e) % q\n",
    "    m = (a*inverse(f, g)) % g\n",
    "    return m\n",
    "\n",
    "\n",
    "# public, private = gen_key()\n",
    "q, h = 7638232120454925879231554234011842347641017888219021175304217358715878636183252433454896490677496516149889316745664606749499241420160898019203925115292257, 2163268902194560093843693572170199707501787797497998463462129592239973581462651622978282637513865274199374452805292639586264791317439029535926401109074800\n",
    "f, g = 47251817614431369468151088301948722761694622606220578981561236563325808178756, 43997957885147078115851147456370880089696256470389782348293341937915504254589\n",
    "\n",
    "# m = bytes_to_long(FLAG)\n",
    "# e = encrypt(q, h, m)\n",
    "\n",
    "# print(f'Public key: {(q,h)}')\n",
    "# print(f'Encrypted Flag: {e}')\n",
    "\n",
    "e = 5605696495253720664142881956908624307570671858477482119657436163663663844731169035682344974286379049123733356009125671924280312532755241162267269123486523\n",
    "d = decrypt(q,h,f,g,e)\n",
    "print(f'Decrypted Flag: {bytearray.fromhex(hex(d)[2:]).decode()}')\n",
    "\n"
   ]
  }
 ],
 "metadata": {
  "kernelspec": {
   "display_name": "Python 3",
   "language": "python",
   "name": "python3"
  },
  "language_info": {
   "codemirror_mode": {
    "name": "ipython",
    "version": 3
   },
   "file_extension": ".py",
   "mimetype": "text/x-python",
   "name": "python",
   "nbconvert_exporter": "python",
   "pygments_lexer": "ipython3",
   "version": "3.7.7"
  }
 },
 "nbformat": 4,
 "nbformat_minor": 4
}
