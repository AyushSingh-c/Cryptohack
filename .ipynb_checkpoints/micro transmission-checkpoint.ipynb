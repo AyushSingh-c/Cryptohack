{
 "cells": [
  {
   "cell_type": "code",
   "execution_count": 3,
   "metadata": {},
   "outputs": [
    {
     "name": "stdout",
     "output_type": "stream",
     "text": [
      "crypto{d0nt_l3t_n_b3_t00_sm4ll}\n"
     ]
    }
   ],
   "source": [
    "#micro transmissions\n",
    "from Crypto.Cipher import AES\n",
    "from Crypto.Util.Padding import pad, unpad\n",
    "import hashlib\n",
    "\n",
    "\n",
    "def is_pkcs7_padded(message):\n",
    "    padding = message[-message[-1]:]\n",
    "    return all(padding[i] == len(padding) for i in range(0, len(padding)))\n",
    "\n",
    "\n",
    "def decrypt_flag(shared_secret: int, iv: str, ciphertext: str):\n",
    "    # Derive AES key from shared secret\n",
    "    sha1 = hashlib.sha1()\n",
    "    sha1.update(str(shared_secret).encode('ascii'))\n",
    "    key = sha1.digest()[:16]\n",
    "    # Decrypt flag\n",
    "    ciphertext = bytes.fromhex(ciphertext)\n",
    "    iv = bytes.fromhex(iv)\n",
    "    cipher = AES.new(key, AES.MODE_CBC, iv)\n",
    "    plaintext = cipher.decrypt(ciphertext)\n",
    "\n",
    "    if is_pkcs7_padded(plaintext):\n",
    "        return unpad(plaintext, 16).decode('ascii')\n",
    "    else:\n",
    "        return plaintext.decode('ascii')\n",
    "\n",
    "\n",
    "shared_secret = secret\n",
    "iv = \"ceb34a8c174d77136455971f08641cc5\"\n",
    "ciphertext = \"b503bf04df71cfbd3f464aec2083e9b79c825803a4d4a43697889ad29eb75453\"\n",
    "\n",
    "print(decrypt_flag(shared_secret, iv, ciphertext))\n"
   ]
  },
  {
   "cell_type": "code",
   "execution_count": 2,
   "metadata": {},
   "outputs": [
    {
     "name": "stderr",
     "output_type": "stream",
     "text": [
      "/opt/sagemath-9.2/local/lib/python3.7/site-packages/sage/repl/ipython_kernel/__main__.py:63: DeprecationWarning: this is being removed from the global namespace\n",
      "See https://trac.sagemath.org/25785 for details.\n"
     ]
    },
    {
     "name": "stdout",
     "output_type": "stream",
     "text": [
      "Time Taken for pohlig hellman 30.283418655395508\n"
     ]
    }
   ],
   "source": [
    "#micro transmissions\n",
    "from Crypto.Cipher import AES\n",
    "from Crypto.Util.Padding import pad, unpad\n",
    "from random import randint\n",
    "import hashlib\n",
    "import time\n",
    "\n",
    "def bsgs_ecdlp(P, Q, E, m = -1):\n",
    "    if Q == E((0, 1, 0)):\n",
    "        return P.order()\n",
    "    if Q == P:\n",
    "        return 1\n",
    "    if m == -1:\n",
    "        m = ceil(sqrt(P.order()))\n",
    "    print(\"order of algo:\", m)\n",
    "    lookup_table = {j*P: j for j in range(m)}\n",
    "    for i in range(m):\n",
    "        temp = Q - (i*m)*P\n",
    "        if temp in lookup_table:\n",
    "            return (i*m + lookup_table[temp]) % P.order()\n",
    "    return None\n",
    "\n",
    "def pohlig_hellman_ec(base,a,phi_p,f):\n",
    "#solves base^x = a mod p\n",
    "    l = len(f)\n",
    "    \n",
    "    ord = phi_p\n",
    "    l=[0]*len(f)\n",
    "    \n",
    "    for i,(pi,ri) in enumerate(f):\n",
    "        for j in range(ri):\n",
    "            c=bsgs(base*(ord//pi),(a-(base*l[i]))*(ord//pi**(j+1)),(0,pi),operation='+')\n",
    "            l[i] += c*(pi**j)\n",
    "            \n",
    "    return crt(l,[pi**ri for pi,ri in f])\n",
    "\n",
    "def gen_shared_secret(P, n):\n",
    "    S = n*P\n",
    "    return S.xy()[0]\n",
    "\n",
    "# Curve params\n",
    "p = 99061670249353652702595159229088680425828208953931838069069584252923270946291\n",
    "a = 1\n",
    "b = 4\n",
    "\n",
    "# Define curve\n",
    "E = EllipticCurve(GF(p), [a, b])\n",
    "\n",
    "# Protect against Pohlig-Hellman Algorithm\n",
    "phi = E.order()\n",
    "f = []\n",
    "for i in factor(phi):\n",
    "    if i[0]<210071842937040101:\n",
    "        f.append(i)\n",
    "\n",
    "# Create generator\n",
    "G = E([43190960452218023575787899214023014938926631792651638044680168600989609069200, 20971936269255296908588589778128791635639992476076894152303569022736123671173])\n",
    "\n",
    "A = E.lift_x(87360200456784002948566700858113190957688355783112995047798140117594305287669)\n",
    "B = E.lift_x(6082896373499126624029343293750138460137531774473450341235217699497602895121)\n",
    "\n",
    "start_time = time.time()\n",
    "n_a = pohlig_hellman_ec(G,A,phi,f)\n",
    "print(\"Time Taken for pohlig hellman\", time.time()-start_time)\n",
    "\n",
    "secret = gen_shared_secret(B,n_a)\n"
   ]
  }
 ],
 "metadata": {
  "kernelspec": {
   "display_name": "SageMath 9.2",
   "language": "sage",
   "name": "sagemath"
  }
 },
 "nbformat": 4,
 "nbformat_minor": 4
}
