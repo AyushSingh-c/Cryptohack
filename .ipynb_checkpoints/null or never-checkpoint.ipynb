{
 "cells": [
  {
   "cell_type": "code",
   "execution_count": 2,
   "metadata": {},
   "outputs": [
    {
     "name": "stdout",
     "output_type": "stream",
     "text": [
      "b'crypto{n0n_574nd4rd_p4d_c0n51d3r3d_h4rmful}'\n"
     ]
    }
   ],
   "source": [
    "#Null or Never\n",
    "\n",
    "from Crypto.Util.number import bytes_to_long, inverse, long_to_bytes\n",
    "\n",
    "n = 95341235345618011251857577682324351171197688101180707030749869409235726634345899397258784261937590128088284421816891826202978052640992678267974129629670862991769812330793126662251062120518795878693122854189330426777286315442926939843468730196970939951374889986320771714519309125434348512571864406646232154103\n",
    "e = 3\n",
    "c = 63476139027102349822147098087901756023488558030079225358836870725611623045683759473454129221778690683914555720975250395929721681009556415292257804239149809875424000027362678341633901036035522299395660255954384685936351041718040558055860508481512479599089561391846007771856837130233678763953257086620228436828\n",
    "\n",
    "for i in range(100):\n",
    "    msg = b'crypto{'\n",
    "    msg = msg + (b'\\x00' * (93-i))\n",
    "    m_0 = bytes_to_long(msg)\n",
    "    \n",
    "    P.<x> = PolynomialRing(Zmod(n))\n",
    "    g = (((256**i)*(m_0+x))**e) - c\n",
    "    diff = g.monic().small_roots(epsilon = 1/20) \n",
    "    \n",
    "    if len(diff) != 0:\n",
    "        print(long_to_bytes(int(m_0+diff[0])))"
   ]
  }
 ],
 "metadata": {
  "kernelspec": {
   "display_name": "SageMath 9.2",
   "language": "sage",
   "name": "sagemath"
  },
  "language_info": {
   "codemirror_mode": {
    "name": "ipython",
    "version": 3
   },
   "file_extension": ".py",
   "mimetype": "text/x-python",
   "name": "python",
   "nbconvert_exporter": "python",
   "pygments_lexer": "ipython3",
   "version": "3.7.7"
  }
 },
 "nbformat": 4,
 "nbformat_minor": 4
}
