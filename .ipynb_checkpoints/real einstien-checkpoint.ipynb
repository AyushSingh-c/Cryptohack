{
 "cells": [
  {
   "cell_type": "code",
   "execution_count": 1,
   "metadata": {},
   "outputs": [
    {
     "name": "stdout",
     "output_type": "stream",
     "text": [
      "?\u0001crypto{r34l_t0_23D_m4p}\n"
     ]
    }
   ],
   "source": [
    "#better real eisenstein\n",
    "\n",
    "import math\n",
    "from sage.all import *\n",
    "from decimal import *\n",
    "getcontext().prec = 100\n",
    "\n",
    "FLAG = \"\"\n",
    "PRIMES = [2, 3, 5, 7, 11, 13, 17, 19, 23, 29, 31, 37, 41, 43, 47, 53, 59, 61, 67, 71, 73, 79, 83, 89, 97, 101, 103]\n",
    "\n",
    "ct = 1350995397927355657956786955603012410260017344805998076702828160316695004588429433\n",
    "\n",
    "n = len(PRIMES)\n",
    "rows, cols = (n+1, n+2)\n",
    "\n",
    "M = Matrix(ZZ, rows, cols)\n",
    "M[0,0], M[0,1] = ct, 1\n",
    "for i in range(len(PRIMES)):\n",
    "    M[i+1,0] = round((16**64)*sqrt(PRIMES[i]))\n",
    "    M[i+1,i+2] = 1\n",
    "\n",
    "fun = M.LLL()\n",
    "\n",
    "for i in fun[0]:\n",
    "    if i == 0:\n",
    "        break\n",
    "    FLAG += (chr(abs(i)))\n",
    "print(FLAG)"
   ]
  }
 ],
 "metadata": {
  "kernelspec": {
   "display_name": "Python 3",
   "language": "python",
   "name": "python3"
  },
  "language_info": {
   "codemirror_mode": {
    "name": "ipython",
    "version": 3
   },
   "file_extension": ".py",
   "mimetype": "text/x-python",
   "name": "python",
   "nbconvert_exporter": "python",
   "pygments_lexer": "ipython3",
   "version": "3.7.7"
  }
 },
 "nbformat": 4,
 "nbformat_minor": 4
}
