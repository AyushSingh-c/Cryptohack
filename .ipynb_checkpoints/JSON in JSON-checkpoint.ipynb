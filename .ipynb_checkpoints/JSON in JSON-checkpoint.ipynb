{
 "cells": [
  {
   "cell_type": "code",
   "execution_count": 1,
   "metadata": {},
   "outputs": [
    {
     "name": "stdout",
     "output_type": "stream",
     "text": [
      "{\"admin\": \"False\", \"username\": \"ayush\", \"admin\": \"True\"}\n",
      "{'admin': 'True', 'username': 'ayush'}\n"
     ]
    }
   ],
   "source": [
    "#JSON in JSON\n",
    "import jwt\n",
    "import base64\n",
    "import json\n",
    "\n",
    "SECRET_KEY = \"secret\"\n",
    "# username = \"ayush\"\\+'\"admin\":'+\"True\"\n",
    "username = 'ayush\", \"admin\": \"True'\n",
    "body = '{' \\\n",
    "              + '\"admin\": \"' + \"False\" \\\n",
    "              + '\", \"username\": \"' + str(username) \\\n",
    "              + '\"}'\n",
    "print(body)\n",
    "encoded = jwt.encode(json.loads(body), SECRET_KEY, algorithm='HS256')\n",
    "decoded = jwt.decode(encoded, SECRET_KEY, algorithms=['HS256'])\n",
    "print(decoded)"
   ]
  }
 ],
 "metadata": {
  "kernelspec": {
   "display_name": "Python 3",
   "language": "python",
   "name": "python3"
  },
  "language_info": {
   "codemirror_mode": {
    "name": "ipython",
    "version": 3
   },
   "file_extension": ".py",
   "mimetype": "text/x-python",
   "name": "python",
   "nbconvert_exporter": "python",
   "pygments_lexer": "ipython3",
   "version": "3.7.7"
  }
 },
 "nbformat": 4,
 "nbformat_minor": 4
}
