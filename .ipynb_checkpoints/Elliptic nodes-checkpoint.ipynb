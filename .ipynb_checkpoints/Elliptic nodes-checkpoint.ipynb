{
 "cells": [
  {
   "cell_type": "code",
   "execution_count": 1,
   "metadata": {},
   "outputs": [
    {
     "name": "stdout",
     "output_type": "stream",
     "text": [
      "175707932493016342199601625200584496546434097133638117913010244817446203005 b'crypto{s1ngul4r_s1mplif1c4t1on}'\n"
     ]
    }
   ],
   "source": [
    "#Elliptic Nodes\n",
    "\n",
    "from Crypto.Util.number import inverse,bytes_to_long, long_to_bytes\n",
    "\n",
    "def cusp_solver(G,H,p):\n",
    "    R = Integers(p)\n",
    "    u = R(G[1])//R(G[0]) \n",
    "    v = R(H[1])//R(H[0]) \n",
    "    return discrete_log(v, u)\n",
    "def node_solver(G,H,p,a):\n",
    "    R = Integers(p)\n",
    "    u = R(G[1]-a*G[0])//R(G[1]+a*G[0])\n",
    "    v = R(H[1]-a*H[0])//R(H[1]+a*H[0])\n",
    "    return discrete_log(v, u)\n",
    "\n",
    "p = 4368590184733545720227961182704359358435747188309319510520316493183539079703\n",
    "g = [8742397231329873984594235438374590234800923467289367269837473862487362482, 225987949353410341392975247044711665782695329311463646299187580326445253608]\n",
    "A = [2582928974243465355371953056699793745022552378548418288211138499777818633265, 2421683573446497972507172385881793260176370025964652384676141384239699096612]\n",
    "\n",
    "#y^2 = x^3 + ax + b\n",
    "a = ((g[1]**2) - (A[1]**2) - (g[0]**3) + (A[0]**3))//Integers(p)(g[0] - A[0])\n",
    "b = (g[1]**2) - (g[0]**3) - (a*g[0])\n",
    "\n",
    "P.<x,y> = PolynomialRing(GF(p))\n",
    "f = (x^3 + a*x + b)\n",
    "n_a = 0\n",
    "if len(f.factor()) == 1:\n",
    "    n_a = cusp_solver(g,A,p)\n",
    "if len(f.factor()) == 2:\n",
    "    singular_pt = f.factor()[0][0].coefficient({x:0}) + f.factor()[1][0].coefficient({x:0})\n",
    "    if f.factor()[0][1] == 2:\n",
    "        singular_pt -= 2*f.factor()[0][0].coefficient({x:0})\n",
    "        g[0] += f.factor()[0][0].coefficient({x:0})\n",
    "        A[0] += f.factor()[0][0].coefficient({x:0})\n",
    "    else:\n",
    "        singular_pt -= 2*f.factor()[1][0].coefficient({x:0})\n",
    "        g[0] += f.factor()[1][0].coefficient({x:0})\n",
    "        A[0] += f.factor()[1][0].coefficient({x:0})\n",
    "    singular_pt = GF(p)(singular_pt).square_root()\n",
    "    n_a = node_solver(g,A,p,singular_pt)\n",
    "\n",
    "print(n_a, long_to_bytes(n_a))"
   ]
  }
 ],
 "metadata": {
  "kernelspec": {
   "display_name": "SageMath 9.2",
   "language": "sage",
   "name": "sagemath"
  },
  "language_info": {
   "codemirror_mode": {
    "name": "ipython",
    "version": 3
   },
   "file_extension": ".py",
   "mimetype": "text/x-python",
   "name": "python",
   "nbconvert_exporter": "python",
   "pygments_lexer": "ipython3",
   "version": "3.7.7"
  }
 },
 "nbformat": 4,
 "nbformat_minor": 4
}
