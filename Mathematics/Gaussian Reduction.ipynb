{
 "cells": [
  {
   "cell_type": "code",
   "execution_count": 3,
   "metadata": {},
   "outputs": [
    {
     "name": "stdout",
     "output_type": "stream",
     "text": [
      "7410790865146821\n"
     ]
    }
   ],
   "source": [
    "from sage.all import *\n",
    "\n",
    "\n",
    "v = (846835985, 9834798552); u = (87502093, 123094980)\n",
    "v, u = map(ZZ**2, [v, u])\n",
    "\n",
    "def gaussian_reduction(v1, v2):\n",
    "    while 1:\n",
    "        if v2*v2 < v1*v1: # ∥v2∥ < ∥v1∥ <=> ∥v2∥² < ∥v1∥²\n",
    "            v1, v2 = v2, v1\n",
    "    \n",
    "        m = floor((v1*v2) / (v1*v1))\n",
    "        if m == 0:\n",
    "            return v1, v2\n",
    "    \n",
    "        v2 -= m*v1\n",
    "\n",
    "a, b = gaussian_reduction(v, u)\n",
    "print(a*b)\n"
   ]
  }
 ],
 "metadata": {
  "kernelspec": {
   "display_name": "Python 3",
   "language": "python",
   "name": "python3"
  },
  "language_info": {
   "codemirror_mode": {
    "name": "ipython",
    "version": 3
   },
   "file_extension": ".py",
   "mimetype": "text/x-python",
   "name": "python",
   "nbconvert_exporter": "python",
   "pygments_lexer": "ipython3",
   "version": "3.7.7"
  }
 },
 "nbformat": 4,
 "nbformat_minor": 4
}
