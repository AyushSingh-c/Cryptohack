{
 "cells": [
  {
   "cell_type": "code",
   "execution_count": 1,
   "metadata": {},
   "outputs": [
    {
     "name": "stderr",
     "output_type": "stream",
     "text": [
      "/tmp/ipykernel_24553/2386663477.py:3: DeprecationWarning: 'telnetlib' is deprecated and slated for removal in Python 3.13\n",
      "  import telnetlib\n"
     ]
    },
    {
     "name": "stdout",
     "output_type": "stream",
     "text": [
      "b'Is this real life, or is it just overly complicated math?\\n'\n",
      "0\n",
      "1\n",
      "2\n",
      "3\n",
      "4\n",
      "5\n",
      "6\n",
      "7\n"
     ]
    },
    {
     "ename": "KeyboardInterrupt",
     "evalue": "",
     "output_type": "error",
     "traceback": [
      "\u001b[0;31m---------------------------------------------------------------------------\u001b[0m",
      "\u001b[0;31mKeyboardInterrupt\u001b[0m                         Traceback (most recent call last)",
      "\u001b[1;32m/home/ayush/Work/Cryptohack/Mathematics/cofactor cofantacy.ipynb Cell 1\u001b[0m line \u001b[0;36m4\n\u001b[1;32m     <a href='vscode-notebook-cell:/home/ayush/Work/Cryptohack/Mathematics/cofactor%20cofantacy.ipynb#W0sZmlsZQ%3D%3D?line=39'>40</a>\u001b[0m     x \u001b[39m=\u001b[39m json_recv()\n\u001b[1;32m     <a href='vscode-notebook-cell:/home/ayush/Work/Cryptohack/Mathematics/cofactor%20cofantacy.ipynb#W0sZmlsZQ%3D%3D?line=40'>41</a>\u001b[0m     get_bit \u001b[39m=\u001b[39m \u001b[39mint\u001b[39m(x[\u001b[39m\"\u001b[39m\u001b[39mbit\u001b[39m\u001b[39m\"\u001b[39m],\u001b[39m0\u001b[39m)\n\u001b[0;32m---> <a href='vscode-notebook-cell:/home/ayush/Work/Cryptohack/Mathematics/cofactor%20cofantacy.ipynb#W0sZmlsZQ%3D%3D?line=41'>42</a>\u001b[0m     \u001b[39mif\u001b[39;00m \u001b[39mpow\u001b[39m(get_bit,phi\u001b[39m/\u001b[39m\u001b[39m/\u001b[39m(\u001b[39m2\u001b[39m\u001b[39m*\u001b[39m\u001b[39m*\u001b[39m\u001b[39m16\u001b[39m),N) \u001b[39m==\u001b[39m \u001b[39m1\u001b[39m:\n\u001b[1;32m     <a href='vscode-notebook-cell:/home/ayush/Work/Cryptohack/Mathematics/cofactor%20cofantacy.ipynb#W0sZmlsZQ%3D%3D?line=42'>43</a>\u001b[0m         count \u001b[39m+\u001b[39m\u001b[39m=\u001b[39m \u001b[39m1\u001b[39m\n\u001b[1;32m     <a href='vscode-notebook-cell:/home/ayush/Work/Cryptohack/Mathematics/cofactor%20cofantacy.ipynb#W0sZmlsZQ%3D%3D?line=43'>44</a>\u001b[0m \u001b[39mif\u001b[39;00m count\u001b[39m>\u001b[39m\u001b[39m10\u001b[39m:\n",
      "File \u001b[0;32msrc/cysignals/signals.pyx:310\u001b[0m, in \u001b[0;36mcysignals.signals.python_check_interrupt\u001b[0;34m()\u001b[0m\n",
      "\u001b[0;31mKeyboardInterrupt\u001b[0m: "
     ]
    }
   ],
   "source": [
    "\n",
    "#better Cofactor Cofantasy\n",
    "from Crypto.Util.number import bytes_to_long, long_to_bytes\n",
    "import telnetlib\n",
    "import json\n",
    "from sage.all import *\n",
    "\n",
    "N = 56135841374488684373258694423292882709478511628224823806418810596720294684253418942704418179091997825551647866062286502441190115027708222460662070779175994701788428003909010382045613207284532791741873673703066633119446610400693458529100429608337219231960657953091738271259191554117313396642763210860060639141073846574854063639566514714132858435468712515314075072939175199679898398182825994936320483610198366472677612791756619011108922142762239138617449089169337289850195216113264566855267751924532728815955224322883877527042705441652709430700299472818705784229370198468215837020914928178388248878021890768324401897370624585349884198333555859109919450686780542004499282760223378846810870449633398616669951505955844529109916358388422428604135236531474213891506793466625402941248015834590154103947822771207939622459156386080305634677080506350249632630514863938445888806223951124355094468682539815309458151531117637927820629042605402188751144912274644498695897277\n",
    "phi = 56135841374488684373258694423292882709478511628224823806413974550086974518248002462797814062141189227167574137989180030483816863197632033192968896065500768938801786598807509315219962138010136188406833851300860971268861927441791178122071599752664078796430411769850033154303492519678490546174370674967628006608839214466433919286766123091889446305984360469651656535210598491300297553925477655348454404698555949086705347702081589881912691966015661120478477658546912972227759596328813124229023736041312940514530600515818452405627696302497023443025538858283667214796256764291946208723335591637425256171690058543567732003198060253836008672492455078544449442472712365127628629283773126365094146350156810594082935996208856669620333251443999075757034938614748482073575647862178964169142739719302502938881912008485968506720505975584527371889195388169228947911184166286132699532715673539451471005969465570624431658644322366653686517908000327238974943675848531974674382848\n",
    "g = 986762276114520220801525811758560961667498483061127810099097\n",
    "\n",
    "\n",
    "HOST = \"socket.cryptohack.org\"\n",
    "PORT = 13398\n",
    "\n",
    "def readline():\n",
    "    return tn.read_until(b\"\\n\")\n",
    "\n",
    "def json_recv():\n",
    "    line = readline().decode()\n",
    "    st = line[line.find('{'):]\n",
    "    return json.loads(st)\n",
    "\n",
    "def json_send(hsh):\n",
    "    request = json.dumps(hsh).encode()\n",
    "    tn.write(request)\n",
    "\n",
    "tn = telnetlib.Telnet(HOST, PORT)\n",
    "l = 43\n",
    "vals = [0]*l\n",
    "\n",
    "print(readline())\n",
    "\n",
    "stri = '''{\"option\" : \"get_bit\", \"i\" : \"0\"}'''\n",
    "to_send = json.loads(stri)\n",
    "for i in range(8*l):\n",
    "    to_send[\"i\"] = i\n",
    "    count = 0\n",
    "    for _ in range(40):\n",
    "        json_send(to_send)\n",
    "        x = json_recv()\n",
    "        get_bit = int(x[\"bit\"],0)\n",
    "        if pow(get_bit,phi//(2**16),N) == 1:\n",
    "            count += 1\n",
    "    if count>10:\n",
    "        vals[i//8] += (1 << (i % 8))\n",
    "    if i%8 == 0:\n",
    "        print(i//8)\n",
    "flag = \"\"\n",
    "for i in vals:\n",
    "    flag += chr(i)\n",
    "print(flag)"
   ]
  }
 ],
 "metadata": {
  "kernelspec": {
   "display_name": "Python 3",
   "language": "python",
   "name": "python3"
  },
  "language_info": {
   "codemirror_mode": {
    "name": "ipython",
    "version": 3
   },
   "file_extension": ".py",
   "mimetype": "text/x-python",
   "name": "python",
   "nbconvert_exporter": "python",
   "pygments_lexer": "ipython3",
   "version": "3.11.5"
  }
 },
 "nbformat": 4,
 "nbformat_minor": 4
}
