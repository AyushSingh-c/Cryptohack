{
 "cells": [
  {
   "cell_type": "code",
   "execution_count": 2,
   "metadata": {},
   "outputs": [
    {
     "name": "stdout",
     "output_type": "stream",
     "text": [
      "b'crypto{p4tterns_1n_re5idu3s}'\n"
     ]
    }
   ],
   "source": [
    "from sage.all import *\n",
    "from Crypto.Util.number import long_to_bytes\n",
    "\n",
    "a = 288260533169915\n",
    "p = 1007621497415251\n",
    "\n",
    "with open(\"output.txt\", \"r\") as f:\n",
    "    v = eval(f.read())\n",
    "\n",
    "res = \"\"\n",
    "for x in v:\n",
    "    c = pow(x, (p-1)//2, p)\n",
    "    if c == 1:\n",
    "        res += \"1\"\n",
    "    else:\n",
    "        res += \"0\"\n",
    "\n",
    "print(long_to_bytes(int(res, 2)))"
   ]
  }
 ],
 "metadata": {
  "kernelspec": {
   "display_name": "Python 3",
   "language": "python",
   "name": "python3"
  },
  "language_info": {
   "codemirror_mode": {
    "name": "ipython",
    "version": 3
   },
   "file_extension": ".py",
   "mimetype": "text/x-python",
   "name": "python",
   "nbconvert_exporter": "python",
   "pygments_lexer": "ipython3",
   "version": "3.7.7"
  }
 },
 "nbformat": 4,
 "nbformat_minor": 4
}
