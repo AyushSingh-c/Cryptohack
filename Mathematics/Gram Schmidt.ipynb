{
 "cells": [
  {
   "cell_type": "code",
   "execution_count": 1,
   "metadata": {},
   "outputs": [
    {
     "name": "stdout",
     "output_type": "stream",
     "text": [
      "[array([ 4,  1,  3, -1]), array([ 2.59259259,  1.14814815, -2.55555556,  3.85185185]), array([-0.72292191, -1.02015113,  2.01259446,  2.12594458]), array([-0.36191897,  0.91610738,  0.21488939,  0.11309968])]\n"
     ]
    }
   ],
   "source": [
    "import numpy as np\n",
    "\n",
    "def gramschmidt(X):\n",
    "    A=[]\n",
    "    A.append(X[0])\n",
    "    for i in X[1:]:\n",
    "        x = i\n",
    "        for j in A:\n",
    "            x = x - ((np.dot(i,j)/np.dot(j,j))*j)\n",
    "        A.append(x)\n",
    "    return A\n",
    "\n",
    "print(gramschmidt(np.array([[4,1,3,-1],[2,1,-3,4],[1,0,-2,7],[6, 2, 9, -5]])))"
   ]
  }
 ],
 "metadata": {
  "kernelspec": {
   "display_name": "Python 3",
   "language": "python",
   "name": "python3"
  },
  "language_info": {
   "codemirror_mode": {
    "name": "ipython",
    "version": 3
   },
   "file_extension": ".py",
   "mimetype": "text/x-python",
   "name": "python",
   "nbconvert_exporter": "python",
   "pygments_lexer": "ipython3",
   "version": "3.7.7"
  }
 },
 "nbformat": 4,
 "nbformat_minor": 4
}
