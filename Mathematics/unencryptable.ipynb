{
 "cells": [
  {
   "cell_type": "code",
   "execution_count": 1,
   "metadata": {},
   "outputs": [
    {
     "name": "stdout",
     "output_type": "stream",
     "text": [
      "b'crypto{R3m3mb3r!_F1x3d_P0iNts_aR3_s3crE7s_t00}'\n"
     ]
    }
   ],
   "source": [
    "#Unencryptable\n",
    "\n",
    "import math\n",
    "import random\n",
    "import Crypto\n",
    "from Crypto.Util.number import bytes_to_long, inverse, long_to_bytes\n",
    "\n",
    "def pc(a,b,c):\n",
    "    R=IntegerModRing(c)\n",
    "    x=R(a)\n",
    "    return x**b\n",
    "\n",
    "e = 0x10001\n",
    "c = 0x5233da71cc1dc1c5f21039f51eb51c80657e1af217d563aa25a8104a4e84a42379040ecdfdd5afa191156ccb40b6f188f4ad96c58922428c4c0bc17fd5384456853e139afde40c3f95988879629297f48d0efa6b335716a4c24bfee36f714d34a4e810a9689e93a0af8502528844ae578100b0188a2790518c695c095c9d677b\n",
    "n = 0x7fe8cafec59886e9318830f33747cafd200588406e7c42741859e15994ab62410438991ab5d9fc94f386219e3c27d6ffc73754f791e7b2c565611f8fe5054dd132b8c4f3eadcf1180cd8f2a3cc756b06996f2d5b67c390adcba9d444697b13d12b2badfc3c7d5459df16a047ca25f4d18570cd6fa727aed46394576cfdb56b41\n",
    "k = 0x372f0e88f6f7189da7c06ed49e87e0664b988ecbee583586dfd1c6af99bf20345ae7442012c6807b3493d8936f5b48e553f614754deb3da6230fa1e16a8d5953a94c886699fc2bf409556264d5dced76a1780a90fd22f3701fdbcb183ddab4046affdc4dc6379090f79f4cd50673b24d0b08458cdbe509d60a4ad88a7b4e2921\n",
    "\n",
    "R = Integers(n)\n",
    "x = R(k)\n",
    "value = [R(k-1)]\n",
    "while x != 1:\n",
    "    value.append(x+1)\n",
    "    x = x*x\n",
    "    \n",
    "p = []\n",
    "for i in value:\n",
    "    if math.gcd(i,n) != 1:\n",
    "        p.append(math.gcd(i,n))\n",
    "\n",
    "phi_n = (p[0]-1)*(p[1]-1)\n",
    "\n",
    "R = IntegerModRing(phi_n)\n",
    "d = R(1)/R(e)\n",
    "\n",
    "m = pc(c,d,n)\n",
    "print(long_to_bytes(Integer(m)))"
   ]
  }
 ],
 "metadata": {
  "kernelspec": {
   "display_name": "SageMath 9.2",
   "language": "sage",
   "name": "sagemath"
  },
  "language_info": {
   "codemirror_mode": {
    "name": "ipython",
    "version": 3
   },
   "file_extension": ".py",
   "mimetype": "text/x-python",
   "name": "python",
   "nbconvert_exporter": "python",
   "pygments_lexer": "ipython3",
   "version": "3.7.7"
  }
 },
 "nbformat": 4,
 "nbformat_minor": 4
}
