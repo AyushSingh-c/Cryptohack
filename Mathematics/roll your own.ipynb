{
 "cells": [
  {
   "cell_type": "code",
   "execution_count": 1,
   "metadata": {},
   "outputs": [
    {
     "name": "stdout",
     "output_type": "stream",
     "text": [
      "What is my private key: {\"flag\": \"crypto{Grabbing_Flags_with_Pascal_Paillier}\"}\n",
      "\n"
     ]
    }
   ],
   "source": [
    "#roll your own\n",
    "from Crypto.Util.number import bytes_to_long, long_to_bytes\n",
    "import telnetlib\n",
    "import json\n",
    "from sage.all import *\n",
    "    \n",
    "HOST = \"socket.cryptohack.org\"\n",
    "PORT = 13403\n",
    "\n",
    "def check_params(data, q):\n",
    "    g = int(data['g'], 16)\n",
    "    n = int(data['n'], 16)\n",
    "    if g < 2:\n",
    "        return False\n",
    "    elif n < 2:\n",
    "        return False\n",
    "    elif pow(g,q,n) != 1:\n",
    "        return False\n",
    "    return True\n",
    "\n",
    "def readline():\n",
    "    return tn.read_until(b\"\\n\")\n",
    "\n",
    "def json_recv():\n",
    "    line = readline().decode()\n",
    "    st = line[line.find('{'):]\n",
    "    return json.loads(st)\n",
    "\n",
    "def json_send(hsh):\n",
    "    request = json.dumps(hsh).encode()\n",
    "    tn.write(request)\n",
    "    \n",
    "tn = telnetlib.Telnet(HOST, PORT)\n",
    "\n",
    "get_str = readline().decode()\n",
    " \n",
    "q = int(get_str[18:-2],0)\n",
    "g = q+1\n",
    "n = q*q\n",
    "\n",
    "stri = '''{\"g\" : \"{g}\", \"n\" : \"{n}\"}'''\n",
    "to_send = json.loads(stri)\n",
    "to_send[\"g\"] = hex(g)\n",
    "to_send[\"n\"] = hex(n)\n",
    "\n",
    "json_send(to_send)\n",
    "\n",
    "get_str = readline().decode()\n",
    "\n",
    "g_x = int(get_str[72:-2],0)\n",
    "x = (g_x-1)//q\n",
    "\n",
    "stri = '''{\"x\" : \"{x}\"}'''\n",
    "to_send = json.loads(stri)\n",
    "to_send[\"x\"] = hex(x)\n",
    "\n",
    "json_send(to_send)\n",
    "\n",
    "get_str = readline().decode()\n",
    "print(get_str)"
   ]
  }
 ],
 "metadata": {
  "kernelspec": {
   "display_name": "Python 3",
   "language": "python",
   "name": "python3"
  },
  "language_info": {
   "codemirror_mode": {
    "name": "ipython",
    "version": 3
   },
   "file_extension": ".py",
   "mimetype": "text/x-python",
   "name": "python",
   "nbconvert_exporter": "python",
   "pygments_lexer": "ipython3",
   "version": "3.7.7"
  }
 },
 "nbformat": 4,
 "nbformat_minor": 4
}
