{
 "cells": [
  {
   "cell_type": "code",
   "execution_count": 10,
   "metadata": {},
   "outputs": [
    {
     "name": "stdout",
     "output_type": "stream",
     "text": [
      "b'crypto{my_kn4ps4ck_1s_l1ghtw31ght}'\n"
     ]
    }
   ],
   "source": [
    "from sage.all import *\n",
    "from Crypto.Util.number import bytes_to_long, long_to_bytes\n",
    "import re\n",
    "\n",
    "\n",
    "public_key = []\n",
    "flag = 1\n",
    "\n",
    "with open(\"output.txt\", \"r\") as f:\n",
    "    for line in f:\n",
    "        line = line.strip()\n",
    "        key, value = line.split(\":\")\n",
    "        if(key == \"Public key\"):\n",
    "            value = value.split(\",\")\n",
    "            for i in value:\n",
    "                public_key.append(int(re.sub(r\"[^\\d.]\", \"\", i)))\n",
    "        else:\n",
    "            flag = int(value)\n",
    "\n",
    "\n",
    "n = len(public_key)\n",
    "rows, cols = (n+1, n+1)\n",
    "temp=[]\n",
    "for i in range(rows):\n",
    "    col = []\n",
    "    for j in range(cols):\n",
    "        col.append(0)\n",
    "    temp.append(col)\n",
    "for i in range(n):\n",
    "    for j in range(n):\n",
    "        temp[i][j] = 0\n",
    "        if i==j:\n",
    "            temp[i][j] = 2\n",
    "    temp[i][n] = public_key[i]\n",
    "\n",
    "for i in range(n):\n",
    "    temp[n][i] = 1\n",
    "temp[n][n] = flag\n",
    "A = matrix(ZZ,temp)\n",
    "\n",
    "fun = A.LLL()\n",
    "\n",
    "ans = []\n",
    "for i in fun:\n",
    "    ch=0\n",
    "    for j in i:\n",
    "        if j!=1 and j!=-1 and j!=0:\n",
    "            ch=1\n",
    "    if ch == 0:\n",
    "        ans = i\n",
    "msg = 0\n",
    "mul = 1\n",
    "for i in ans: \n",
    "    if i == -1:\n",
    "        msg += mul\n",
    "    mul *= 2\n",
    "    \n",
    "print(long_to_bytes(msg))"
   ]
  }
 ],
 "metadata": {
  "kernelspec": {
   "display_name": "Python 3",
   "language": "python",
   "name": "python3"
  },
  "language_info": {
   "codemirror_mode": {
    "name": "ipython",
    "version": 3
   },
   "file_extension": ".py",
   "mimetype": "text/x-python",
   "name": "python",
   "nbconvert_exporter": "python",
   "pygments_lexer": "ipython3",
   "version": "3.11.5"
  }
 },
 "nbformat": 4,
 "nbformat_minor": 4
}
