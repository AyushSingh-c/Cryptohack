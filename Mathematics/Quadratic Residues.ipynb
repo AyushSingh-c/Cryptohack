{
 "cells": [
  {
   "cell_type": "code",
   "execution_count": 3,
   "metadata": {},
   "outputs": [
    {
     "name": "stdout",
     "output_type": "stream",
     "text": [
      "14 0\n",
      "6 8\n",
      "11 0\n"
     ]
    }
   ],
   "source": [
    "from sage.all import *\n",
    "\n",
    "# tonolli shanks\n",
    "def step3(b,p,r,x):\n",
    "       # Step 3: Find exponent\n",
    "       if GF(p)(b) == GF(p)(1):\n",
    "               return b,r,x,0\n",
    "       m = 0\n",
    "       while GF(p)(b**(2**m)) != 1:\n",
    "               m = m + 1\n",
    "       if m == r:\n",
    "               return b,r,0,0\n",
    "       return b,r,x,m\n",
    "\n",
    "def s_root(a,p):\n",
    "       # Step 0: Determine q:\n",
    "       q = 0\n",
    "       e = 0\n",
    "       while q % 2 != 1:\n",
    "               e = e+1\n",
    "               q = (p-1) // 2**e\n",
    "       # Step 1: Find generator\n",
    "       n = ZZ.random_element()\n",
    "       while kronecker(n,p) != -1:\n",
    "               n = ZZ.random_element()\n",
    "       n = GF(p)(n)\n",
    "       z = GF(p)(n**q)\n",
    "       # Step 2: Initialize\n",
    "       y = z\n",
    "       r = e\n",
    "       a = GF(p)(a)\n",
    "       x = GF(p)(a**((q-1)//2))\n",
    "       b = GF(p)(a*(x**2))\n",
    "       x = GF(p)(a*x)\n",
    "       # Step 3:\n",
    "       b,r,x,m = step3(b,p,r,x)\n",
    "       # Step 4: Reduce exponent\n",
    "       while ZZ(m) != ZZ(0):\n",
    "               t = GF(p)(y**(2**(r-m-1)))\n",
    "               y = GF(p)(t**2)\n",
    "               r = GF(p)(m)\n",
    "               x = GF(p)(x*t)\n",
    "               b = GF(p)(b*y)\n",
    "               b,r,x,m = step3(b,p,r,x)\n",
    "       return x\n",
    "\n",
    "pos = [14, 6, 11]\n",
    "for i in pos:\n",
    "    a = GF(29)(i)\n",
    "    print(i, s_root(a,29))\n"
   ]
  }
 ],
 "metadata": {
  "kernelspec": {
   "display_name": "Python 3",
   "language": "python",
   "name": "python3"
  },
  "language_info": {
   "codemirror_mode": {
    "name": "ipython",
    "version": 3
   },
   "file_extension": ".py",
   "mimetype": "text/x-python",
   "name": "python",
   "nbconvert_exporter": "python",
   "pygments_lexer": "ipython3",
   "version": "3.7.7"
  }
 },
 "nbformat": 4,
 "nbformat_minor": 4
}
