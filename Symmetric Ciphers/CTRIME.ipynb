{
 "cells": [
  {
   "cell_type": "code",
   "execution_count": 1,
   "metadata": {},
   "outputs": [
    {
     "name": "stdout",
     "output_type": "stream",
     "text": [
      "b'crypto{C'\n",
      "b'crypto{CR'\n",
      "b'crypto{CRI'\n",
      "b'crypto{CRIM'\n",
      "b'crypto{CRIME'\n",
      "b'crypto{CRIME_'\n",
      "b'crypto{CRIME_5'\n",
      "b'crypto{CRIME_57'\n",
      "b'crypto{CRIME_571'\n",
      "b'crypto{CRIME_571l'\n",
      "b'crypto{CRIME_571ll'\n",
      "b'crypto{CRIME_571ll_'\n",
      "b'crypto{CRIME_571ll_p'\n",
      "b'crypto{CRIME_571ll_p4'\n",
      "b'crypto{CRIME_571ll_p4y'\n",
      "b'crypto{CRIME_571ll_p4y5'\n",
      "b'crypto{CRIME_571ll_p4y5}'\n"
     ]
    }
   ],
   "source": [
    "import requests\n",
    "import string\n",
    "from Crypto.Util.Padding import unpad\n",
    "\n",
    "def encrypt(plaintext):\n",
    "    res = requests.get(f\"http://aes.cryptohack.org/ctrime/encrypt/{plaintext.hex()}/\")\n",
    "    return bytes.fromhex(res.json()['ciphertext'])\n",
    "\n",
    "flag = b'crypto{'\n",
    "inv = ';'\n",
    "while True:\n",
    "    for i in range(32,127):\n",
    "        cipher = encrypt((flag+inv.encode())*2)\n",
    "        length = len(cipher)\n",
    "        cipher = encrypt((flag+chr(i).encode())*2)\n",
    "        if length > len(cipher):\n",
    "            flag += chr(i).encode()\n",
    "            break\n",
    "    print(flag)\n",
    "    if chr(flag[-1]) == '}':\n",
    "        break"
   ]
  }
 ],
 "metadata": {
  "kernelspec": {
   "display_name": "Python 3",
   "language": "python",
   "name": "python3"
  },
  "language_info": {
   "codemirror_mode": {
    "name": "ipython",
    "version": 3
   },
   "file_extension": ".py",
   "mimetype": "text/x-python",
   "name": "python",
   "nbconvert_exporter": "python",
   "pygments_lexer": "ipython3",
   "version": "3.7.7"
  }
 },
 "nbformat": 4,
 "nbformat_minor": 4
}
