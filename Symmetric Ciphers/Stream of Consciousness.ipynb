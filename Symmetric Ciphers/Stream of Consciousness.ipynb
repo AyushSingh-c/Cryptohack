{
 "cells": [
  {
   "cell_type": "code",
   "execution_count": 3,
   "metadata": {},
   "outputs": [
    {
     "name": "stdout",
     "output_type": "stream",
     "text": [
      "22\n"
     ]
    }
   ],
   "source": [
    "import requests\n",
    "import string\n",
    "from Crypto.Util.Padding import unpad\n",
    "\n",
    "def encrypt():\n",
    "    res = requests.get(f\"http://aes.cryptohack.org/stream_consciousness/encrypt/\")\n",
    "    return bytes.fromhex(res.json()['ciphertext'])\n",
    "\n",
    "pos_enc = set()\n",
    "for i in range(100):\n",
    "    pos_enc.add(encrypt())\n",
    "print(len(pos_enc))\n",
    "\n",
    "pos_enc = list(pos_enc)\n",
    "pos_mes_xor = []\n",
    "\n",
    "def bytewiseXor(m1,m2): \n",
    "    xorlen=min(len(m1),len(m2))\n",
    "    return bytes([m1[i]^m2[i] for i in range(xorlen)])\n",
    "\n",
    "for i in range(22):\n",
    "    temp = []\n",
    "    for j in range(22):\n",
    "        temp.append(bytewiseXor(pos_enc[i],pos_enc[j]))\n",
    "    pos_mes_xor.append(temp)\n",
    "\n",
    "def crib_attack(plaintext):\n",
    "    crib = plaintext\n",
    "    flagno = 0\n",
    "    for i in range(22):\n",
    "        if all([bytewiseXor(crib,pos_mes_xor[i][j]).decode().isprintable() for j in range(22)]):\n",
    "            flagno=i\n",
    "    for j in range(22):\n",
    "        print(j,bytewiseXor(crib,pos_mes_xor[flagno][j]).decode())\n",
    "    return flagno"
   ]
  },
  {
   "cell_type": "code",
   "execution_count": 4,
   "metadata": {},
   "outputs": [
    {
     "name": "stdout",
     "output_type": "stream",
     "text": [
      "0 I shall lose everything and not g\n",
      "1 Our? Why our?\n",
      "2 Three boys running, playing at ho\n",
      "3 These horses, this carriage - how\n",
      "4 crypto{k3y57r34m_r3u53_15_f474l}\n",
      "5 Perhaps he has missed the train a\n",
      "6 Why do they go on painting and bu\n",
      "7 And I shall ignore it.\n",
      "8 I shall, I'll lose everything if \n",
      "9 What a lot of things that then se\n",
      "10 Love, probably? They don't know h\n",
      "11 It can't be torn out, but it can \n",
      "12 What a nasty smell this paint had\n",
      "13 No, I'll go in to Dolly and tell \n",
      "14 But I will show him.\n",
      "15 Dress-making and Millinery\n",
      "16 The terrible thing is that the pa\n",
      "17 As if I had any wish to be in the\n",
      "18 How proud and happy he'll be when\n",
      "19 Dolly will think that I'm leaving\n",
      "20 Would I have believed then that I\n",
      "21 I'm unhappy, I deserve it, the fa\n",
      "19\n"
     ]
    }
   ],
   "source": [
    "# start with crib_attack(b'crypto{')\n",
    "print(crib_attack(b'Dolly will think that I\\'m leaving'))"
   ]
  }
 ],
 "metadata": {
  "kernelspec": {
   "display_name": "Python 3",
   "language": "python",
   "name": "python3"
  },
  "language_info": {
   "codemirror_mode": {
    "name": "ipython",
    "version": 3
   },
   "file_extension": ".py",
   "mimetype": "text/x-python",
   "name": "python",
   "nbconvert_exporter": "python",
   "pygments_lexer": "ipython3",
   "version": "3.7.7"
  }
 },
 "nbformat": 4,
 "nbformat_minor": 4
}
