{
 "cells": [
  {
   "cell_type": "code",
   "execution_count": 1,
   "metadata": {},
   "outputs": [
    {
     "name": "stdout",
     "output_type": "stream",
     "text": [
      "b'Can you help find our lost keys to unlock the safe?\\n'\n",
      "{'msg': 'Key inserted'}\n",
      "{'msg': 'Key inserted'}\n",
      "{'msg': \"The safe clicks and the door opens. Amongst its secrets you find a flag: b'crypto{MD5_15_0n_4_c0ll151On_c0uRz3}'\"}\n"
     ]
    }
   ],
   "source": [
    "#Twin Keys\n",
    "from Crypto.Util.number import bytes_to_long, long_to_bytes\n",
    "import telnetlib\n",
    "import json\n",
    "import re\n",
    "from pkcs1 import emsa_pkcs1_v15\n",
    "from sage.all import *\n",
    "import fastecdsa\n",
    "from fastecdsa.point import Point\n",
    "\n",
    "HOST = \"socket.cryptohack.org\"\n",
    "PORT = 13397\n",
    "\n",
    "def readline():\n",
    "    return tn.read_until(b\"\\n\")\n",
    "\n",
    "def json_recv():\n",
    "    line = readline().decode()\n",
    "    st = line[line.find('{'):]\n",
    "    return json.loads(st)\n",
    "\n",
    "def json_send(hsh):\n",
    "    request = json.dumps(hsh).encode()\n",
    "    tn.write(request)\n",
    "\n",
    "p1 = \"43727970746f4861636b205365637572652053616665300a08de6e639eb76baa3f782925580a654ad735580c928d0e6936fecd35ebd5ac2d6bc4608b6e55239ddee23a8ae2c6bdcdf57745c78aef60b46903e9b3eb4e128ad05ab9f459839ccd8374ca53aa802edd2cba35bf081d2b7ae96e70787c391cf11bcc226565219236\"\n",
    "p2 = \"43727970746f4861636c205365637572652053616665300a08de6e639eb76baa3f782925580a654ad735580c928d0e6936fecd35ebd5ac2d6bc4608b6e55239ddee23a8ae2c6bdcdf57645c78aef60b46903e9b3eb4e128ad05ab9f459839ccd8374ca53aa802edd2cba35bf081d2b7ae96e70787c391cf11bcc226565219236\"\n",
    "\n",
    "tn = telnetlib.Telnet(HOST, PORT)\n",
    "print(readline())\n",
    "\n",
    "to_send = json.loads(json.dumps({\"option\" : \"insert_key\", \"key\" : p1}))\n",
    "json_send(to_send)\n",
    "print(json_recv())\n",
    "to_send = json.loads(json.dumps({\"option\" : \"insert_key\", \"key\" : p2}))\n",
    "json_send(to_send)\n",
    "print(json_recv())\n",
    "to_send = json.loads(json.dumps({\"option\" : \"unlock\"}))\n",
    "json_send(to_send)\n",
    "print(json_recv())"
   ]
  }
 ],
 "metadata": {
  "kernelspec": {
   "display_name": "Python 3",
   "language": "python",
   "name": "python3"
  },
  "language_info": {
   "codemirror_mode": {
    "name": "ipython",
    "version": 3
   },
   "file_extension": ".py",
   "mimetype": "text/x-python",
   "name": "python",
   "nbconvert_exporter": "python",
   "pygments_lexer": "ipython3",
   "version": "3.7.7"
  }
 },
 "nbformat": 4,
 "nbformat_minor": 4
}
