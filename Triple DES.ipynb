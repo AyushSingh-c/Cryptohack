{
 "cells": [
  {
   "cell_type": "code",
   "execution_count": null,
   "metadata": {},
   "outputs": [],
   "source": [
    "import requests\n",
    "from Crypto.Util.Padding import unpad\n",
    "\n",
    "def encrypt_flag(key):\n",
    "    res = requests.get(f\"http://aes.cryptohack.org/triple_des/encrypt_flag/{key.hex()}\")\n",
    "    return bytes.fromhex(res.json()['ciphertext'])\n",
    "\n",
    "def encrypt(key, plaintext):\n",
    "    res = requests.get(f\"http://aes.cryptohack.org/triple_des/encrypt/{key.hex()}/{plaintext.hex()}/\")\n",
    "    return bytes.fromhex(res.json()['ciphertext'])\n",
    "\n",
    "# DES weak keys\n",
    "key1 = b\"\\x01\\x01\\x01\\x01\\x01\\x01\\x01\\x01\"\n",
    "key2 = b\"\\xfe\\xfe\\xfe\\xfe\\xfe\\xfe\\xfe\\xfe\"\n",
    "\n",
    "# 3DES weak key = key1||key2\n",
    "key = key1+key2\n",
    "\n",
    "encrypted_flag = encrypt_flag(key)\n",
    "flag = unpad(encrypt(key, encrypted_flag), 8)\n",
    "print(flag.decode())"
   ]
  }
 ],
 "metadata": {
  "kernelspec": {
   "display_name": "Python 3",
   "language": "python",
   "name": "python3"
  },
  "language_info": {
   "codemirror_mode": {
    "name": "ipython",
    "version": 3
   },
   "file_extension": ".py",
   "mimetype": "text/x-python",
   "name": "python",
   "nbconvert_exporter": "python",
   "pygments_lexer": "ipython3",
   "version": "3.7.7"
  }
 },
 "nbformat": 4,
 "nbformat_minor": 4
}
