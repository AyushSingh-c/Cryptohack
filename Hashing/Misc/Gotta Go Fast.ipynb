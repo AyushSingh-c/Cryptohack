{
 "cells": [
  {
   "cell_type": "code",
   "execution_count": 1,
   "metadata": {},
   "outputs": [
    {
     "name": "stdout",
     "output_type": "stream",
     "text": [
      "b'Gotta go fast!\\n'\n",
      "11829714670670076668749932579144865108252235883078284788904730633123\n",
      "2016580217323608125316367693312484981245295310702893549094562436830\n",
      "18578924667498249919241583255369886805894356231347801666302529608720\n",
      "22231030540273142452301836765663429053154495049245372453213591873901\n",
      "18578924667498249919241583255369886805894356231347801666302529608720\n",
      "22231030540273142452301836765663429053154495049245372453213591873901\n",
      "b'crypto{t00_f4st_t00_furi0u5}'\n"
     ]
    }
   ],
   "source": [
    "#Gotta Go Fast\n",
    "from Crypto.Util.number import bytes_to_long, long_to_bytes\n",
    "import telnetlib\n",
    "import json\n",
    "from sage.all import *\n",
    "from hashlib import sha256\n",
    "import os\n",
    "\n",
    "def check(val, flag_len):\n",
    "    for i in range(256):\n",
    "        if (val) == (sha256(bytes([i]*flag_len)).hexdigest()):\n",
    "            return True\n",
    "    return False\n",
    "        \n",
    "\n",
    "HOST = \"socket.cryptohack.org\"\n",
    "PORT = 13372\n",
    "\n",
    "def readline():\n",
    "    return tn.read_until(b\"\\n\")\n",
    "\n",
    "def json_recv():\n",
    "    line = readline().decode()\n",
    "    st = line[line.find('{'):]\n",
    "    return json.loads(st)\n",
    "\n",
    "def json_send(hsh):\n",
    "    request = json.dumps(hsh).encode()\n",
    "    tn.write(request)\n",
    "\n",
    "tn = telnetlib.Telnet(HOST, PORT)\n",
    "print(readline())\n",
    "for i in range(3):\n",
    "    to_send = json.loads(json.dumps({\"option\": \"get_flag\"}))\n",
    "    json_send(to_send)\n",
    "    flag = int((json_recv())[\"encrypted_flag\"], 16) \n",
    "    print(flag)\n",
    "    to_send = json.loads(json.dumps({\"option\": \"encrypt_data\", \"input_data\": bytes([0]*28).hex()}))\n",
    "    json_send(to_send)\n",
    "    pad = int((json_recv())[\"encrypted_data\"], 16)\n",
    "    print(pad)\n",
    "\n",
    "print(long_to_bytes(pad^flag))"
   ]
  }
 ],
 "metadata": {
  "kernelspec": {
   "display_name": "Python 3",
   "language": "python",
   "name": "python3"
  },
  "language_info": {
   "codemirror_mode": {
    "name": "ipython",
    "version": 3
   },
   "file_extension": ".py",
   "mimetype": "text/x-python",
   "name": "python",
   "nbconvert_exporter": "python",
   "pygments_lexer": "ipython3",
   "version": "3.7.7"
  }
 },
 "nbformat": 4,
 "nbformat_minor": 4
}
