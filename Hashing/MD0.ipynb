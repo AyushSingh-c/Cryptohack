{
 "cells": [
  {
   "cell_type": "code",
   "execution_count": 2,
   "metadata": {},
   "outputs": [
    {
     "name": "stdout",
     "output_type": "stream",
     "text": [
      "b\"You'll never forge my signatures!\\n\"\n",
      "{'flag': 'crypto{l3ngth_3xT3nd3r}'}\n"
     ]
    }
   ],
   "source": [
    "#MD0\n",
    "from Crypto.Util.number import bytes_to_long, long_to_bytes\n",
    "import telnetlib\n",
    "from Crypto.Cipher import AES\n",
    "import json\n",
    "import re\n",
    "from pkcs1 import emsa_pkcs1_v15\n",
    "from sage.all import *\n",
    "import fastecdsa\n",
    "from fastecdsa.point import Point\n",
    "from Crypto.Util.Padding import pad\n",
    "\n",
    "def bxor(a, b):\n",
    "    return bytes(x ^ y for x, y in zip(a, b))\n",
    "\n",
    "\n",
    "def hash(data, sig):\n",
    "    data = pad(data, 16)\n",
    "    out = sig\n",
    "#     print(data)\n",
    "    for i in range(0, len(data), 16):\n",
    "        blk = data[i:i+16]\n",
    "#         print(blk)\n",
    "        out = bxor(AES.new(blk, AES.MODE_ECB).encrypt(out), out)\n",
    "    return out\n",
    "\n",
    "HOST = \"socket.cryptohack.org\"\n",
    "PORT = 13388\n",
    "\n",
    "def readline():\n",
    "    return tn.read_until(b\"\\n\")\n",
    "\n",
    "def json_recv():\n",
    "    line = readline().decode()\n",
    "    st = line[line.find('{'):]\n",
    "    return json.loads(st)\n",
    "\n",
    "def json_send(hsh):\n",
    "    request = json.dumps(hsh).encode()\n",
    "    tn.write(request)\n",
    "\n",
    "tn = telnetlib.Telnet(HOST, PORT)\n",
    "print(readline())\n",
    "\n",
    "to_send = json.loads(json.dumps({\"option\" : \"sign\", \"message\" : bytes([0]*15).hex()}))\n",
    "json_send(to_send)\n",
    "sig = json_recv()[\"signature\"]\n",
    "sig = hash(b'admin=True',bytes.fromhex(sig))\n",
    "\n",
    "to_send = json.loads(json.dumps({\"option\" : \"get_flag\", \"message\" : (bytes([0]*15)+bytes([1])+b'admin=True').hex(), \"signature\" : sig.hex()}))\n",
    "json_send(to_send)\n",
    "print(json_recv())\n",
    "\n",
    "# print(bytes([16]*16))\n",
    "# hh = hash((\"0000000admin=Tru\").encode(), bytes([16]*16))"
   ]
  }
 ],
 "metadata": {
  "kernelspec": {
   "display_name": "Python 3",
   "language": "python",
   "name": "python3"
  },
  "language_info": {
   "codemirror_mode": {
    "name": "ipython",
    "version": 3
   },
   "file_extension": ".py",
   "mimetype": "text/x-python",
   "name": "python",
   "nbconvert_exporter": "python",
   "pygments_lexer": "ipython3",
   "version": "3.7.7"
  }
 },
 "nbformat": 4,
 "nbformat_minor": 4
}
