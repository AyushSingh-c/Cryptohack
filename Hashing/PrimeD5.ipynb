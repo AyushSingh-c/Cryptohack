{
 "cells": [
  {
   "cell_type": "code",
   "execution_count": 1,
   "metadata": {},
   "outputs": [
    {
     "name": "stdout",
     "output_type": "stream",
     "text": [
      "b'Primality checking is expensive so I made a service that signs primes, allowing anyone to quickly check if a number is prime\\n'\n",
      "{'msg': 'Valid signature. First byte of flag: crypto{MD5_5uck5_p4rt_tw0}'}\n"
     ]
    }
   ],
   "source": [
    "#PriMeD5\n",
    "from Crypto.Util.number import bytes_to_long, long_to_bytes\n",
    "import telnetlib\n",
    "import json\n",
    "import re\n",
    "from pkcs1 import emsa_pkcs1_v15\n",
    "from sage.all import *\n",
    "import fastecdsa\n",
    "from fastecdsa.point import Point\n",
    "\n",
    "HOST = \"socket.cryptohack.org\"\n",
    "PORT = 13392\n",
    "\n",
    "def readline():\n",
    "    return tn.read_until(b\"\\n\")\n",
    "\n",
    "def json_recv():\n",
    "    line = readline().decode()\n",
    "    st = line[line.find('{'):]\n",
    "    return json.loads(st)\n",
    "\n",
    "def json_send(hsh):\n",
    "    request = json.dumps(hsh).encode()\n",
    "    tn.write(request)\n",
    "\n",
    "p1 = 168372483594051730655820996690138951969774005433766395387688615584540140900710691132801423560880645636787567562700867844996261531963192453964591654200576712262132526428152200379167640852910063046101763828915652400127047206140061076598343986693012019419450608867077881990659651358706028092457741758989240675419\n",
    "p2 = 168372483594051730655820847988448104191467725627516580397632602458519974961264785555615491966814929596350213045869418229361202552090813434667286608742052157771561747345094090139716153234602501559552683217011241305167105930521986107755305298240599816862664295649343744749267908466585047521912073669770255838299\n",
    "\n",
    "tn = telnetlib.Telnet(HOST, PORT)\n",
    "print(readline())\n",
    "\n",
    "to_send = json.loads(json.dumps({\"option\" : \"sign\", \"prime\" : p1}))\n",
    "json_send(to_send)\n",
    "sig = json_recv()\n",
    "to_send = json.loads(json.dumps({\"option\" : \"check\", \"prime\" : p2, \"signature\" : sig[\"signature\"], \"a\" : 3119}))\n",
    "json_send(to_send)\n",
    "print(json_recv())"
   ]
  }
 ],
 "metadata": {
  "kernelspec": {
   "display_name": "Python 3",
   "language": "python",
   "name": "python3"
  },
  "language_info": {
   "codemirror_mode": {
    "name": "ipython",
    "version": 3
   },
   "file_extension": ".py",
   "mimetype": "text/x-python",
   "name": "python",
   "nbconvert_exporter": "python",
   "pygments_lexer": "ipython3",
   "version": "3.7.7"
  }
 },
 "nbformat": 4,
 "nbformat_minor": 4
}
