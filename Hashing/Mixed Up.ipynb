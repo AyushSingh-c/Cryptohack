{
 "cells": [
  {
   "cell_type": "code",
   "execution_count": 1,
   "metadata": {},
   "outputs": [
    {
     "name": "stdout",
     "output_type": "stream",
     "text": [
      "b'Oh no, how are you going to unmix this?\\n'\n",
      "gg flag_length == 39\n",
      "b'crypto{y0u_c4n7_m1x_3v3ry7h1n6_1n_l1f3}'\n"
     ]
    }
   ],
   "source": [
    "#Mixed Up\n",
    "from Crypto.Util.number import bytes_to_long, long_to_bytes\n",
    "import telnetlib\n",
    "import json\n",
    "from sage.all import *\n",
    "from hashlib import sha256\n",
    "import os\n",
    "\n",
    "def check(val, flag_len):\n",
    "    for i in range(256):\n",
    "        if (val) == (sha256(bytes([i]*flag_len)).hexdigest()):\n",
    "            return True\n",
    "    return False\n",
    "        \n",
    "\n",
    "HOST = \"socket.cryptohack.org\"\n",
    "PORT = 13402\n",
    "\n",
    "def readline():\n",
    "    return tn.read_until(b\"\\n\")\n",
    "\n",
    "def json_recv():\n",
    "    line = readline().decode()\n",
    "    st = line[line.find('{'):]\n",
    "    return json.loads(st)\n",
    "\n",
    "def json_send(hsh):\n",
    "    request = json.dumps(hsh).encode()\n",
    "    tn.write(request)\n",
    "\n",
    "tn = telnetlib.Telnet(HOST, PORT)\n",
    "print(readline())\n",
    "flag_length = 0\n",
    "for i in range(1,50):\n",
    "    data = [0]*i\n",
    "    to_send = json.loads(json.dumps({\"option\" : \"mix\", \"data\" : bytes(data).hex()}))\n",
    "    json_send(to_send)\n",
    "\n",
    "    val = json_recv()[\"mixed\"]\n",
    "    if check(val, i):\n",
    "        flag_length = i\n",
    "        print(\"gg flag_length ==\", i)\n",
    "\n",
    "data = [0]*flag_length\n",
    "flag = 0\n",
    "for i in range(8*flag_length):\n",
    "    data[flag_length - (i//8) - 1] = 1<<(i%8)\n",
    "    to_send = json.loads(json.dumps({\"option\" : \"mix\", \"data\" : bytes(data).hex()}))\n",
    "    json_send(to_send)\n",
    "\n",
    "    val = json_recv()[\"mixed\"]\n",
    "    if not check(val, flag_length):\n",
    "        flag += (1<<i)\n",
    "    data[flag_length - (i//8) - 1] = 0\n",
    "print(long_to_bytes(flag))"
   ]
  }
 ],
 "metadata": {
  "kernelspec": {
   "display_name": "Python 3",
   "language": "python",
   "name": "python3"
  },
  "language_info": {
   "codemirror_mode": {
    "name": "ipython",
    "version": 3
   },
   "file_extension": ".py",
   "mimetype": "text/x-python",
   "name": "python",
   "nbconvert_exporter": "python",
   "pygments_lexer": "ipython3",
   "version": "3.7.7"
  }
 },
 "nbformat": 4,
 "nbformat_minor": 4
}
