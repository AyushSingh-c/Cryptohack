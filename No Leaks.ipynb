{
 "cells": [
  {
   "cell_type": "code",
   "execution_count": 2,
   "metadata": {},
   "outputs": [
    {
     "name": "stdout",
     "output_type": "stream",
     "text": [
      "b'No leaks\\n'\n",
      "crypto{unr4nd0m_07p}\n"
     ]
    }
   ],
   "source": [
    "#No Leaks\n",
    "from Crypto.Util.number import bytes_to_long, long_to_bytes\n",
    "import telnetlib\n",
    "import json\n",
    "from sage.all import *\n",
    "from hashlib import sha256\n",
    "import os\n",
    "import hashlib\n",
    "import base64\n",
    "\n",
    "def check(val, flag_len):\n",
    "    for i in range(256):\n",
    "        if (val) == (sha256(bytes([i]*flag_len)).hexdigest()):\n",
    "            return True\n",
    "    return False\n",
    "        \n",
    "\n",
    "HOST = \"socket.cryptohack.org\"\n",
    "PORT = 13370\n",
    "\n",
    "def readline():\n",
    "    return tn.read_until(b\"\\n\")\n",
    "\n",
    "def json_recv():\n",
    "    line = readline().decode()\n",
    "    st = line[line.find('{'):]\n",
    "    return json.loads(st)\n",
    "\n",
    "def json_send(hsh):\n",
    "    request = json.dumps(hsh).encode()\n",
    "    tn.write(request)\n",
    "\n",
    "flag = []\n",
    "for j in range(30):\n",
    "    pos = []\n",
    "    for i in range(256):\n",
    "        pos.append(i)\n",
    "    flag.append(set(pos))\n",
    "    \n",
    "tn = telnetlib.Telnet(HOST, PORT)\n",
    "print(readline())\n",
    "for i in range(5000):\n",
    "    to_send = json.loads(json.dumps({\"msg\": \"request\"}))\n",
    "    json_send(to_send)\n",
    "    pad = json_recv()\n",
    "#     print(pad)\n",
    "    if pad != {'error': 'Leaky ciphertext'}:\n",
    "#         print(base64.standard_b64decode(pad[\"ciphertext\"]))\n",
    "        pad = base64.standard_b64decode(pad[\"ciphertext\"])\n",
    "        for j in range(len(pad)):\n",
    "            if pad[j] in flag[j]:\n",
    "                flag[j].remove(pad[j])\n",
    "\n",
    "final = \"\"\n",
    "for i in flag:\n",
    "    if len(i) == 1:\n",
    "        final+=chr(list(i)[0])\n",
    "print(final)\n"
   ]
  }
 ],
 "metadata": {
  "kernelspec": {
   "display_name": "Python 3",
   "language": "python",
   "name": "python3"
  },
  "language_info": {
   "codemirror_mode": {
    "name": "ipython",
    "version": 3
   },
   "file_extension": ".py",
   "mimetype": "text/x-python",
   "name": "python",
   "nbconvert_exporter": "python",
   "pygments_lexer": "ipython3",
   "version": "3.7.7"
  }
 },
 "nbformat": 4,
 "nbformat_minor": 4
}
