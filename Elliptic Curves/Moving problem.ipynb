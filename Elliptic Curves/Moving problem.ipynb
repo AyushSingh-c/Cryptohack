{
 "cells": [
  {
   "cell_type": "code",
   "execution_count": 3,
   "metadata": {},
   "outputs": [
    {
     "name": "stdout",
     "output_type": "stream",
     "text": [
      "crypto{MOV_attack_on_non_supersingular_curves}\n"
     ]
    }
   ],
   "source": [
    "#Moving Problems\n",
    "from Crypto.Cipher import AES\n",
    "from Crypto.Util.Padding import pad, unpad\n",
    "import hashlib\n",
    "\n",
    "\n",
    "def is_pkcs7_padded(message):\n",
    "    padding = message[-message[-1]:]\n",
    "    return all(padding[i] == len(padding) for i in range(0, len(padding)))\n",
    "\n",
    "\n",
    "def decrypt_flag(shared_secret: int, iv: str, ciphertext: str):\n",
    "    # Derive AES key from shared secret\n",
    "    sha1 = hashlib.sha1()\n",
    "    sha1.update(str(shared_secret).encode('ascii'))\n",
    "    key = sha1.digest()[:16]\n",
    "    # Decrypt flag\n",
    "    ciphertext = bytes.fromhex(ciphertext)\n",
    "    iv = bytes.fromhex(iv)\n",
    "    cipher = AES.new(key, AES.MODE_CBC, iv)\n",
    "    plaintext = cipher.decrypt(ciphertext)\n",
    "\n",
    "    if is_pkcs7_padded(plaintext):\n",
    "        return unpad(plaintext, 16).decode('ascii')\n",
    "    else:\n",
    "        return plaintext.decode('ascii')\n",
    "\n",
    "\n",
    "shared_secret = secret\n",
    "iv = \"eac58c26203c04f68d63dc2c58d79aca\"\n",
    "ciphertext = 'bb9ecbd3662d0671fd222ccb07e27b5500f304e3621a6f8e9c815bc8e4e6ee6ebc718ce9ca115cb4e41acb90dbcabb0d'\n",
    "\n",
    "print(decrypt_flag(shared_secret, iv, ciphertext))\n"
   ]
  },
  {
   "cell_type": "code",
   "execution_count": 2,
   "metadata": {},
   "outputs": [
    {
     "name": "stdout",
     "output_type": "stream",
     "text": [
      "2\n",
      "103686954799254136375814\n",
      "computing pairings\n",
      "computing log\n"
     ]
    }
   ],
   "source": [
    "#Moving Problems\n",
    "def mov_attack(a,b,p,gx,gy,ax):\n",
    "    F = GF(p)\n",
    "    E = EllipticCurve(F,[a,b])\n",
    "    order = E.order()\n",
    "\n",
    "    k = 1 \n",
    "    while k<100:\n",
    "        if ((p**k)-1)%order == 0:\n",
    "            break\n",
    "        k += 1\n",
    "    print(k)\n",
    "    \n",
    "    Fy = GF(p^k,'y')\n",
    "    Ee = EllipticCurve(Fy,[a,b])\n",
    "\n",
    "    P = E((gx,gy))\n",
    "    xP = E.lift_x(ax)\n",
    "\n",
    "    Pe = Ee(P)\n",
    "    xPe = Ee(xP)\n",
    "\n",
    "    R = Ee.random_point()\n",
    "    m = R.order()\n",
    "    d = gcd(m, P.order())\n",
    "    print(d)\n",
    "    Q = (m//d)*R\n",
    "\n",
    "    assert P.order()/Q.order() in ZZ\n",
    "    assert P.order() == Q.order()\n",
    "\n",
    "    n = P.order()\n",
    "    print('computing pairings')\n",
    "    alpha = Pe.weil_pairing(Q,n)\n",
    "    beta = xPe.weil_pairing(Q,n)\n",
    "\n",
    "    print('computing log')\n",
    "    dd = beta.log(alpha)\n",
    "    return dd\n",
    "\n",
    "\n",
    "gx = 479691812266187139164535778017\n",
    "gy = 568535594075310466177352868412\n",
    "\n",
    "a = -35\n",
    "b = 98\n",
    "p = 1331169830894825846283645180581\n",
    "\n",
    "E = EllipticCurve(GF(p), [a, b])\n",
    "A = E.lift_x(1110072782478160369250829345256)\n",
    "B = E.lift_x(1290982289093010194550717223760)\n",
    "\n",
    "n_a = mov_attack(a,b,p,gx,gy,1110072782478160369250829345256)\n",
    "secret = (B*int(n_a)).xy()[0]"
   ]
  }
 ],
 "metadata": {
  "kernelspec": {
   "display_name": "SageMath 9.2",
   "language": "sage",
   "name": "sagemath"
  }
 },
 "nbformat": 4,
 "nbformat_minor": 4
}
