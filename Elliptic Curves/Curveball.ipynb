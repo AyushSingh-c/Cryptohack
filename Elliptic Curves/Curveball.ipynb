{
 "cells": [
  {
   "cell_type": "code",
   "execution_count": 1,
   "metadata": {},
   "outputs": [
    {
     "name": "stdout",
     "output_type": "stream",
     "text": [
      "b'Welcome to my secure search engine backed by trusted certificate library!\\n'\n",
      "b'\"Hey bing! Tell me about crypto{Curveballing_Microsoft_CVE-2020-0601}\"\\n'\n"
     ]
    }
   ],
   "source": [
    "#Curveball\n",
    "\n",
    "# import fastecdsa\n",
    "# from fastecdsa.point import Point\n",
    "from Crypto.Util.number import bytes_to_long, long_to_bytes\n",
    "import telnetlib\n",
    "import json\n",
    "import re\n",
    "from pkcs1 import emsa_pkcs1_v15\n",
    "from sage.all import *\n",
    "import fastecdsa\n",
    "from fastecdsa.point import Point\n",
    "\n",
    "HOST = \"socket.cryptohack.org\"\n",
    "PORT = 13382\n",
    "\n",
    "def readline():\n",
    "    return tn.read_until(b\"\\n\")\n",
    "\n",
    "def json_recv():\n",
    "    line = readline().decode()\n",
    "    st = line[line.find('{'):]\n",
    "    return json.loads(st)\n",
    "\n",
    "def json_send(hsh):\n",
    "    request = json.dumps(hsh).encode()\n",
    "    tn.write(request)\n",
    "\n",
    "tn = telnetlib.Telnet(HOST, PORT)\n",
    "print(readline())\n",
    "\n",
    "G = fastecdsa.curve.P256.G\n",
    "A = Point(0x3B827FF5E8EA151E6E51F8D0ABF08D90F571914A595891F9998A5BD49DFA3531, 0xAB61705C502CA0F7AA127DEC096B2BBDC9BD3B4281808B3740C320810888592A)\n",
    "B = int(1//Integers(fastecdsa.curve.P256.q)(3))*A\n",
    "to_send = json.loads(json.dumps({\"private_key\": 3, \"host\": \"www.bing.com\", \"curve\": \"secp256r1\", \"generator\": [B.x, B.y]}))\n",
    "json_send(to_send)\n",
    "print(readline())\n"
   ]
  }
 ],
 "metadata": {
  "kernelspec": {
   "display_name": "Python 3",
   "language": "python",
   "name": "python3"
  },
  "language_info": {
   "codemirror_mode": {
    "name": "ipython",
    "version": 3
   },
   "file_extension": ".py",
   "mimetype": "text/x-python",
   "name": "python",
   "nbconvert_exporter": "python",
   "pygments_lexer": "ipython3",
   "version": "3.7.7"
  }
 },
 "nbformat": 4,
 "nbformat_minor": 4
}
