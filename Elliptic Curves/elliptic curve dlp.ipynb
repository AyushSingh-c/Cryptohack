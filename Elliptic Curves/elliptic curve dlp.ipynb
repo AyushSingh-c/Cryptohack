{
 "cells": [
  {
   "cell_type": "code",
   "execution_count": null,
   "metadata": {},
   "outputs": [],
   "source": [
    "\n",
    "#elliptic curve dlp\n",
    "\n",
    "p = 1331169830894825846283645180581\n",
    "a = -35\n",
    "b = 98\n",
    "g_x = 479691812266187139164535778017 \n",
    "g_y = 568535594075310466177352868412 \n",
    "\n",
    "F = FiniteField(p)\n",
    "E = EllipticCurve(F, [a, b])\n",
    "\n",
    "# P = nG\n",
    "P = E.point((1110072782478160369250829345256, 800079550745409318906383650948))\n",
    "G = E.point((g_x, g_y))\n",
    "# print('factor E.order():', factor(E.order()))\n",
    "# print('factor G.order():', factor(G.order()))\n",
    "\n",
    "# factors, exps = zip(*factor(E.order()))\n",
    "# primes = [factors[i]^exps[i] for i in range(len(factors))]\n",
    "# print(primes)\n",
    "primes = [4, 7, 73441, 561073969, 1153763334005213]\n",
    "dlogs = []\n",
    "for fac in primes:\n",
    "  t = int(G.order() / fac)\n",
    "  dlog = discrete_log(t*P, t*G, operation=\"+\")\n",
    "  dlogs += [dlog]\n",
    "  print(\"factor:\", fac, \"dlog:\", dlog)\n",
    "\n",
    "print(dlogs)\n",
    "n = crt(dlogs, primes)\n",
    "print(n * G == P)\n",
    "print(n)"
   ]
  }
 ],
 "metadata": {
  "kernelspec": {
   "display_name": "SageMath 9.2",
   "language": "sage",
   "name": "sagemath"
  }
 },
 "nbformat": 4,
 "nbformat_minor": 4
}
