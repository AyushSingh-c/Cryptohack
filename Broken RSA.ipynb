{
 "cells": [
  {
   "cell_type": "code",
   "execution_count": null,
   "metadata": {},
   "outputs": [
    {
     "name": "stdout",
     "output_type": "stream",
     "text": [
      "b\"Hey, if you are reading this maybe I didn't mess up my code too much. Phew. I really should play more CryptoHack before rushing to code stuff from scratch again. Here's the flag: crypto{m0dul4r_squ4r3_r00t}\"\n"
     ]
    }
   ],
   "source": [
    "from sage.all import *\n",
    "from Crypto.Util.number import inverse, long_to_bytes\n",
    "\n",
    "n = 27772857409875257529415990911214211975844307184430241451899407838750503024323367895540981606586709985980003435082116995888017731426634845808624796292507989171497629109450825818587383112280639037484593490692935998202437639626747133650990603333094513531505209954273004473567193235535061942991750932725808679249964667090723480397916715320876867803719301313440005075056481203859010490836599717523664197112053206745235908610484907715210436413015546671034478367679465233737115549451849810421017181842615880836253875862101545582922437858358265964489786463923280312860843031914516061327752183283528015684588796400861331354873\n",
    "e = 16\n",
    "ct = 11303174761894431146735697569489134747234975144162172162401674567273034831391936916397234068346115459134602443963604063679379285919302225719050193590179240191429612072131629779948379821039610415099784351073443218911356328815458050694493726951231241096695626477586428880220528001269746547018741237131741255022371957489462380305100634600499204435763201371188769446054925748151987175656677342779043435047048130599123081581036362712208692748034620245590448762406543804069935873123161582756799517226666835316588896306926659321054276507714414876684738121421124177324568084533020088172040422767194971217814466953837590498718\n",
    "\n",
    "def legendre(a, p):\n",
    "    return pow(a, (p - 1) // 2, p)\n",
    "\n",
    "# tonolli shanks\n",
    "def step3(b,p,r,x):\n",
    "       # Step 3: Find exponent\n",
    "       if GF(p)(b) == GF(p)(1):\n",
    "               return b,r,x,0\n",
    "       m = 0\n",
    "       while GF(p)(b**(2**m)) != 1:\n",
    "               m = m + 1\n",
    "       if m == r:\n",
    "               return b,r,0,0\n",
    "       return b,r,x,m\n",
    "\n",
    "def s_root(a,p):\n",
    "       # Step 0: Determine q:\n",
    "       q = 0\n",
    "       e = 0\n",
    "       while q % 2 != 1:\n",
    "               e = e+1\n",
    "               q = (p-1) // 2**e\n",
    "       # Step 1: Find generator\n",
    "       n = ZZ.random_element()\n",
    "       while kronecker(n,p) != -1:\n",
    "               n = ZZ.random_element()\n",
    "       n = GF(p)(n)\n",
    "       z = GF(p)(n**q)\n",
    "       # Step 2: Initialize\n",
    "       y = z\n",
    "       r = e\n",
    "       a = GF(p)(a)\n",
    "       x = GF(p)(a**((q-1)//2))\n",
    "       b = GF(p)(a*(x**2))\n",
    "       x = GF(p)(a*x)\n",
    "       # Step 3:\n",
    "       b,r,x,m = step3(b,p,r,x)\n",
    "       # Step 4: Reduce exponent\n",
    "       while ZZ(m) != ZZ(0):\n",
    "               t = GF(p)(y**(2**(r-m-1)))\n",
    "               y = GF(p)(t**2)\n",
    "               r = GF(p)(m)\n",
    "               x = GF(p)(x*t)\n",
    "               b = GF(p)(b*y)\n",
    "               b,r,x,m = step3(b,p,r,x)\n",
    "       return x\n",
    "\n",
    "phi = n - 1\n",
    "d = inverse(e, phi)\n",
    "pt8 = pow(ct, d, n)\n",
    "\n",
    "def print_solutions(number, power):\n",
    "    if power == 1:\n",
    "        plaintext = long_to_bytes(int(number))\n",
    "        if b\"crypto\" in plaintext:\n",
    "            print(plaintext)\n",
    "    else:\n",
    "        a = GF(n)(number)\n",
    "        r1 = s_root(a, n)\n",
    "        print_solutions(r1, power // 2)\n",
    "        r2 = n - r1\n",
    "        print_solutions(r2, power // 2)\n",
    "\n",
    "print_solutions(pt8, 8)"
   ]
  }
 ],
 "metadata": {
  "kernelspec": {
   "display_name": "Python 3",
   "language": "python",
   "name": "python3"
  },
  "language_info": {
   "codemirror_mode": {
    "name": "ipython",
    "version": 3
   },
   "file_extension": ".py",
   "mimetype": "text/x-python",
   "name": "python",
   "nbconvert_exporter": "python",
   "pygments_lexer": "ipython3",
   "version": "3.7.7"
  }
 },
 "nbformat": 4,
 "nbformat_minor": 4
}
